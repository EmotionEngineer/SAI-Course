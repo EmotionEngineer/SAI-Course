{
 "cells": [
  {
   "cell_type": "markdown",
   "id": "26d591fe",
   "metadata": {
    "papermill": {
     "duration": 0.005294,
     "end_time": "2024-10-31T09:37:28.547691",
     "exception": false,
     "start_time": "2024-10-31T09:37:28.542397",
     "status": "completed"
    },
    "tags": []
   },
   "source": [
    "# VK Recommendation Model\n",
    "\n",
    "This notebook demonstrates a machine learning pipeline for training a recommendation model using the RecBole library. The model predicts group recommendations for VK social network users based on their past interactions.\n",
    "\n",
    "## Steps Covered:\n",
    "- GPU Setup Verification\n",
    "- Library Imports and Dataset Loading\n",
    "- Data Preparation for RecBole\n",
    "- Model Training\n",
    "- Predictions\n"
   ]
  },
  {
   "cell_type": "code",
   "execution_count": 1,
   "id": "1012b9aa",
   "metadata": {
    "execution": {
     "iopub.execute_input": "2024-10-31T09:37:28.558239Z",
     "iopub.status.busy": "2024-10-31T09:37:28.557873Z",
     "iopub.status.idle": "2024-10-31T09:37:29.588623Z",
     "shell.execute_reply": "2024-10-31T09:37:29.587330Z"
    },
    "papermill": {
     "duration": 1.038479,
     "end_time": "2024-10-31T09:37:29.590971",
     "exception": false,
     "start_time": "2024-10-31T09:37:28.552492",
     "status": "completed"
    },
    "tags": []
   },
   "outputs": [
    {
     "name": "stdout",
     "output_type": "stream",
     "text": [
      "GPU 0: Tesla P100-PCIE-16GB (UUID: GPU-0e435c7a-545e-84f2-3563-fa616fa547f4)\r\n"
     ]
    }
   ],
   "source": [
    "!nvidia-smi -L\n",
    "\n",
    "# Check if the notebook is using GPU with correct configurations.\n",
    "# Display available GPUs (if any) for use by PyTorch/RecBole."
   ]
  },
  {
   "cell_type": "markdown",
   "id": "18323513",
   "metadata": {
    "papermill": {
     "duration": 0.004606,
     "end_time": "2024-10-31T09:37:29.600465",
     "exception": false,
     "start_time": "2024-10-31T09:37:29.595859",
     "status": "completed"
    },
    "tags": []
   },
   "source": [
    "## Step 1: Library Imports\n",
    "We begin by importing all the necessary libraries and packages for:\n",
    "- Data handling (Pandas)\n",
    "- Memory management\n",
    "- RecBole configuration, dataset handling, model, trainer, and utilities\n",
    "\n",
    "We also check if RecBole, PyTorch, and Ray libraries are installed, and install them if not present."
   ]
  },
  {
   "cell_type": "code",
   "execution_count": 2,
   "id": "68a6df55",
   "metadata": {
    "execution": {
     "iopub.execute_input": "2024-10-31T09:37:29.611191Z",
     "iopub.status.busy": "2024-10-31T09:37:29.610882Z",
     "iopub.status.idle": "2024-10-31T09:38:13.847921Z",
     "shell.execute_reply": "2024-10-31T09:38:13.847027Z"
    },
    "papermill": {
     "duration": 44.245366,
     "end_time": "2024-10-31T09:38:13.850309",
     "exception": false,
     "start_time": "2024-10-31T09:37:29.604943",
     "status": "completed"
    },
    "tags": []
   },
   "outputs": [
    {
     "name": "stdout",
     "output_type": "stream",
     "text": [
      "Collecting recbole\r\n",
      "  Downloading recbole-1.2.0-py3-none-any.whl.metadata (1.4 kB)\r\n",
      "Requirement already satisfied: torch>=1.10.0 in /opt/conda/lib/python3.10/site-packages (from recbole) (2.4.0)\r\n",
      "Requirement already satisfied: numpy>=1.17.2 in /opt/conda/lib/python3.10/site-packages (from recbole) (1.26.4)\r\n",
      "Requirement already satisfied: scipy>=1.6.0 in /opt/conda/lib/python3.10/site-packages (from recbole) (1.14.1)\r\n",
      "Requirement already satisfied: pandas>=1.4.0 in /opt/conda/lib/python3.10/site-packages (from recbole) (2.2.2)\r\n",
      "Requirement already satisfied: tqdm>=4.48.2 in /opt/conda/lib/python3.10/site-packages (from recbole) (4.66.4)\r\n",
      "Collecting colorlog==4.7.2 (from recbole)\r\n",
      "  Downloading colorlog-4.7.2-py2.py3-none-any.whl.metadata (9.9 kB)\r\n",
      "Collecting colorama==0.4.4 (from recbole)\r\n",
      "  Downloading colorama-0.4.4-py2.py3-none-any.whl.metadata (14 kB)\r\n",
      "Requirement already satisfied: scikit-learn>=0.23.2 in /opt/conda/lib/python3.10/site-packages (from recbole) (1.2.2)\r\n",
      "Requirement already satisfied: pyyaml>=5.1.0 in /opt/conda/lib/python3.10/site-packages (from recbole) (6.0.2)\r\n",
      "Requirement already satisfied: tensorboard>=2.5.0 in /opt/conda/lib/python3.10/site-packages (from recbole) (2.16.2)\r\n",
      "Collecting thop>=0.1.1.post2207130030 (from recbole)\r\n",
      "  Downloading thop-0.1.1.post2209072238-py3-none-any.whl.metadata (2.7 kB)\r\n",
      "Requirement already satisfied: tabulate>=0.8.10 in /opt/conda/lib/python3.10/site-packages (from recbole) (0.9.0)\r\n",
      "Requirement already satisfied: plotly>=4.0.0 in /opt/conda/lib/python3.10/site-packages (from recbole) (5.22.0)\r\n",
      "Requirement already satisfied: texttable>=0.9.0 in /opt/conda/lib/python3.10/site-packages (from recbole) (1.7.0)\r\n",
      "Requirement already satisfied: python-dateutil>=2.8.2 in /opt/conda/lib/python3.10/site-packages (from pandas>=1.4.0->recbole) (2.9.0.post0)\r\n",
      "Requirement already satisfied: pytz>=2020.1 in /opt/conda/lib/python3.10/site-packages (from pandas>=1.4.0->recbole) (2024.1)\r\n",
      "Requirement already satisfied: tzdata>=2022.7 in /opt/conda/lib/python3.10/site-packages (from pandas>=1.4.0->recbole) (2024.1)\r\n",
      "Requirement already satisfied: tenacity>=6.2.0 in /opt/conda/lib/python3.10/site-packages (from plotly>=4.0.0->recbole) (8.3.0)\r\n",
      "Requirement already satisfied: packaging in /opt/conda/lib/python3.10/site-packages (from plotly>=4.0.0->recbole) (21.3)\r\n",
      "Requirement already satisfied: joblib>=1.1.1 in /opt/conda/lib/python3.10/site-packages (from scikit-learn>=0.23.2->recbole) (1.4.2)\r\n",
      "Requirement already satisfied: threadpoolctl>=2.0.0 in /opt/conda/lib/python3.10/site-packages (from scikit-learn>=0.23.2->recbole) (3.5.0)\r\n",
      "Requirement already satisfied: absl-py>=0.4 in /opt/conda/lib/python3.10/site-packages (from tensorboard>=2.5.0->recbole) (1.4.0)\r\n",
      "Requirement already satisfied: grpcio>=1.48.2 in /opt/conda/lib/python3.10/site-packages (from tensorboard>=2.5.0->recbole) (1.62.2)\r\n",
      "Requirement already satisfied: markdown>=2.6.8 in /opt/conda/lib/python3.10/site-packages (from tensorboard>=2.5.0->recbole) (3.6)\r\n",
      "Requirement already satisfied: protobuf!=4.24.0,>=3.19.6 in /opt/conda/lib/python3.10/site-packages (from tensorboard>=2.5.0->recbole) (3.20.3)\r\n",
      "Requirement already satisfied: setuptools>=41.0.0 in /opt/conda/lib/python3.10/site-packages (from tensorboard>=2.5.0->recbole) (70.0.0)\r\n",
      "Requirement already satisfied: six>1.9 in /opt/conda/lib/python3.10/site-packages (from tensorboard>=2.5.0->recbole) (1.16.0)\r\n",
      "Requirement already satisfied: tensorboard-data-server<0.8.0,>=0.7.0 in /opt/conda/lib/python3.10/site-packages (from tensorboard>=2.5.0->recbole) (0.7.2)\r\n",
      "Requirement already satisfied: werkzeug>=1.0.1 in /opt/conda/lib/python3.10/site-packages (from tensorboard>=2.5.0->recbole) (3.0.4)\r\n",
      "Requirement already satisfied: filelock in /opt/conda/lib/python3.10/site-packages (from torch>=1.10.0->recbole) (3.15.1)\r\n",
      "Requirement already satisfied: typing-extensions>=4.8.0 in /opt/conda/lib/python3.10/site-packages (from torch>=1.10.0->recbole) (4.12.2)\r\n",
      "Requirement already satisfied: sympy in /opt/conda/lib/python3.10/site-packages (from torch>=1.10.0->recbole) (1.13.3)\r\n",
      "Requirement already satisfied: networkx in /opt/conda/lib/python3.10/site-packages (from torch>=1.10.0->recbole) (3.3)\r\n",
      "Requirement already satisfied: jinja2 in /opt/conda/lib/python3.10/site-packages (from torch>=1.10.0->recbole) (3.1.4)\r\n",
      "Requirement already satisfied: fsspec in /opt/conda/lib/python3.10/site-packages (from torch>=1.10.0->recbole) (2024.6.1)\r\n",
      "Requirement already satisfied: MarkupSafe>=2.1.1 in /opt/conda/lib/python3.10/site-packages (from werkzeug>=1.0.1->tensorboard>=2.5.0->recbole) (2.1.5)\r\n",
      "Requirement already satisfied: pyparsing!=3.0.5,>=2.0.2 in /opt/conda/lib/python3.10/site-packages (from packaging->plotly>=4.0.0->recbole) (3.1.2)\r\n",
      "Requirement already satisfied: mpmath<1.4,>=1.1.0 in /opt/conda/lib/python3.10/site-packages (from sympy->torch>=1.10.0->recbole) (1.3.0)\r\n",
      "Downloading recbole-1.2.0-py3-none-any.whl (2.1 MB)\r\n",
      "\u001b[2K   \u001b[90m━━━━━━━━━━━━━━━━━━━━━━━━━━━━━━━━━━━━━━━━\u001b[0m \u001b[32m2.1/2.1 MB\u001b[0m \u001b[31m29.4 MB/s\u001b[0m eta \u001b[36m0:00:00\u001b[0m\r\n",
      "\u001b[?25hDownloading colorama-0.4.4-py2.py3-none-any.whl (16 kB)\r\n",
      "Downloading colorlog-4.7.2-py2.py3-none-any.whl (10 kB)\r\n",
      "Downloading thop-0.1.1.post2209072238-py3-none-any.whl (15 kB)\r\n",
      "Installing collected packages: colorlog, colorama, thop, recbole\r\n",
      "  Attempting uninstall: colorlog\r\n",
      "    Found existing installation: colorlog 6.8.2\r\n",
      "    Uninstalling colorlog-6.8.2:\r\n",
      "      Successfully uninstalled colorlog-6.8.2\r\n",
      "  Attempting uninstall: colorama\r\n",
      "    Found existing installation: colorama 0.4.6\r\n",
      "    Uninstalling colorama-0.4.6:\r\n",
      "      Successfully uninstalled colorama-0.4.6\r\n",
      "\u001b[31mERROR: pip's dependency resolver does not currently take into account all the packages that are installed. This behaviour is the source of the following dependency conflicts.\r\n",
      "bayesian-optimization 1.5.1 requires colorama<0.5.0,>=0.4.6, but you have colorama 0.4.4 which is incompatible.\u001b[0m\u001b[31m\r\n",
      "\u001b[0mSuccessfully installed colorama-0.4.4 colorlog-4.7.2 recbole-1.2.0 thop-0.1.1.post2209072238\r\n",
      "Collecting kmeans-pytorch\r\n",
      "  Downloading kmeans_pytorch-0.3-py3-none-any.whl.metadata (1.6 kB)\r\n",
      "Downloading kmeans_pytorch-0.3-py3-none-any.whl (4.4 kB)\r\n",
      "Installing collected packages: kmeans-pytorch\r\n",
      "Successfully installed kmeans-pytorch-0.3\r\n"
     ]
    }
   ],
   "source": [
    "import pandas as pd\n",
    "import os\n",
    "import gc\n",
    "import logging\n",
    "from logging import getLogger\n",
    "from typing import List, Tuple\n",
    "from collections import defaultdict\n",
    "\n",
    "# Install necessary libraries if missing\n",
    "lst = !pip list\n",
    "avail_libs = set(x.split()[0] for x in lst)\n",
    "if 'recbole' not in avail_libs:\n",
    "    !pip install recbole\n",
    "if 'torch' not in avail_libs:\n",
    "    !pip install torch\n",
    "if 'ray' not in avail_libs:\n",
    "    !pip install ray\n",
    "if 'kmeans-pytorch' not in avail_libs:\n",
    "    !pip install kmeans-pytorch\n",
    "\n",
    "from recbole.config import Config\n",
    "from recbole.data import create_dataset, data_preparation\n",
    "from recbole.model.sequential_recommender import GRU4Rec\n",
    "from recbole.trainer import Trainer\n",
    "from recbole.utils import init_logger\n",
    "from recbole.utils.case_study import full_sort_topk\n",
    "import torch\n",
    "\n",
    "# Set device based on GPU availability\n",
    "DEVICE = torch.device(\"cuda\") if torch.cuda.is_available() else torch.device(\"cpu\")"
   ]
  },
  {
   "cell_type": "code",
   "execution_count": 3,
   "id": "d7d35286",
   "metadata": {
    "execution": {
     "iopub.execute_input": "2024-10-31T09:38:13.867419Z",
     "iopub.status.busy": "2024-10-31T09:38:13.866765Z",
     "iopub.status.idle": "2024-10-31T09:38:13.896144Z",
     "shell.execute_reply": "2024-10-31T09:38:13.895173Z"
    },
    "papermill": {
     "duration": 0.039685,
     "end_time": "2024-10-31T09:38:13.898291",
     "exception": false,
     "start_time": "2024-10-31T09:38:13.858606",
     "status": "completed"
    },
    "tags": []
   },
   "outputs": [
    {
     "data": {
      "text/plain": [
       "1"
      ]
     },
     "execution_count": 3,
     "metadata": {},
     "output_type": "execute_result"
    }
   ],
   "source": [
    "# Check GPU count\n",
    "torch.cuda.device_count()"
   ]
  },
  {
   "cell_type": "markdown",
   "id": "f755a7aa",
   "metadata": {
    "papermill": {
     "duration": 0.006959,
     "end_time": "2024-10-31T09:38:13.912197",
     "exception": false,
     "start_time": "2024-10-31T09:38:13.905238",
     "status": "completed"
    },
    "tags": []
   },
   "source": [
    "## Step 2: Data Loading and Preprocessing\n",
    "We load the training dataset, preprocess interaction records, and map group interactions to numerical values. The final dataframe includes the `customer_id`, `community_id`, `status`, and timestamp information for each user interaction."
   ]
  },
  {
   "cell_type": "code",
   "execution_count": 4,
   "id": "69dc81a7",
   "metadata": {
    "execution": {
     "iopub.execute_input": "2024-10-31T09:38:13.927851Z",
     "iopub.status.busy": "2024-10-31T09:38:13.926995Z",
     "iopub.status.idle": "2024-10-31T09:41:58.496686Z",
     "shell.execute_reply": "2024-10-31T09:41:58.495529Z"
    },
    "papermill": {
     "duration": 224.580562,
     "end_time": "2024-10-31T09:41:58.499423",
     "exception": false,
     "start_time": "2024-10-31T09:38:13.918861",
     "status": "completed"
    },
    "tags": []
   },
   "outputs": [],
   "source": [
    "df_train = pd.read_csv(\"/kaggle/input/vk-recsys-train/train_df.tsv\", sep='\\t')\n",
    "\n",
    "# Map customer interaction types to numerical ratings\n",
    "df_train['status'] = df_train['status'].map({'Y': 1, 'I': 1, 'B': 2, 'F': 2, 'P': 2, 'R': 3, 'A': 4})\n",
    "\n",
    "# Fill missing join_request_date with zeroes\n",
    "df_train['join_request_date'] = df_train['join_request_date'].fillna(0)\n",
    "\n",
    "# Sort by join_request_date and drop duplicates for consistent records\n",
    "df_train = df_train.sort_values('join_request_date').drop_duplicates(subset=['customer_id', 'community_id'], keep='last')\n",
    "\n",
    "# Select up to 7 recent interactions per customer for the model\n",
    "df_train = df_train.groupby('customer_id').tail(7)"
   ]
  },
  {
   "cell_type": "markdown",
   "id": "b670c129",
   "metadata": {
    "papermill": {
     "duration": 0.006603,
     "end_time": "2024-10-31T09:41:58.512956",
     "exception": false,
     "start_time": "2024-10-31T09:41:58.506353",
     "status": "completed"
    },
    "tags": []
   },
   "source": [
    "### Creating RecBole-Compatible Data\n",
    "To prepare the data for RecBole, we create the interaction (`.inter`) and item (`.item`) files that store user-item interactions and item metadata, respectively. These files are saved in a specific format for RecBole's dataset functions."
   ]
  },
  {
   "cell_type": "code",
   "execution_count": 5,
   "id": "ff7ef910",
   "metadata": {
    "execution": {
     "iopub.execute_input": "2024-10-31T09:41:58.528951Z",
     "iopub.status.busy": "2024-10-31T09:41:58.527815Z",
     "iopub.status.idle": "2024-10-31T09:44:38.015141Z",
     "shell.execute_reply": "2024-10-31T09:44:38.014214Z"
    },
    "papermill": {
     "duration": 159.504644,
     "end_time": "2024-10-31T09:44:38.024189",
     "exception": false,
     "start_time": "2024-10-31T09:41:58.519545",
     "status": "completed"
    },
    "tags": []
   },
   "outputs": [
    {
     "data": {
      "text/plain": [
       "17"
      ]
     },
     "execution_count": 5,
     "metadata": {},
     "output_type": "execute_result"
    }
   ],
   "source": [
    "# Create INTER file for interactions\n",
    "df_inter = df_train[['customer_id', 'community_id', 'status', 'join_request_date']]\n",
    "df_inter.columns = ['user_id:token', 'item_id:token', 'rating:float', 'timestamp:float']\n",
    "\n",
    "# Save to CSV\n",
    "new_folder = '/kaggle/working/vk_data/full_train'\n",
    "if not os.path.exists(new_folder):\n",
    "    os.makedirs(new_folder)\n",
    "\n",
    "new_csv = '/kaggle/working/vk_data/full_train/full_train.inter'\n",
    "if not os.path.exists(new_csv):\n",
    "    df_inter.to_csv(new_csv, sep='\\t', index=False)\n",
    "\n",
    "# Create ITEM file for item details\n",
    "df_item = df_train[['community_id', 'description', 'customers_count', 'messages_count', 'type', 'region_id', 'themeid', 'business_category', 'business_parent']]\n",
    "df_item.columns = ['item_id:token', 'description:token_seq', 'customers_count:float', 'messages_count:float', 'type:token', 'region_id:token', 'themeid:token', 'business_category:token', 'business_parent:token']\n",
    "\n",
    "# Save ITEM data to CSV\n",
    "item_csv = '/kaggle/working/vk_data/full_train/full_train.item'\n",
    "if not os.path.exists(item_csv):\n",
    "    df_item.to_csv(item_csv, sep='\\t', index=False)\n",
    "\n",
    "del df_item, df_inter, df_train\n",
    "gc.collect()"
   ]
  },
  {
   "cell_type": "markdown",
   "id": "83622170",
   "metadata": {
    "papermill": {
     "duration": 0.006512,
     "end_time": "2024-10-31T09:44:38.037503",
     "exception": false,
     "start_time": "2024-10-31T09:44:38.030991",
     "status": "completed"
    },
    "tags": []
   },
   "source": [
    "## Step 3: Model Training\n",
    "Using RecBole's `GRU4Rec` model, we configure hyperparameters and initiate training. The model parameters include embedding sizes, hidden layer sizes, batch size, and dropout probability. Here, we also specify evaluation metrics and model stopping criteria."
   ]
  },
  {
   "cell_type": "code",
   "execution_count": 6,
   "id": "a1a4c991",
   "metadata": {
    "execution": {
     "iopub.execute_input": "2024-10-31T09:44:38.052370Z",
     "iopub.status.busy": "2024-10-31T09:44:38.052067Z",
     "iopub.status.idle": "2024-10-31T09:44:38.059699Z",
     "shell.execute_reply": "2024-10-31T09:44:38.058847Z"
    },
    "papermill": {
     "duration": 0.017563,
     "end_time": "2024-10-31T09:44:38.061840",
     "exception": false,
     "start_time": "2024-10-31T09:44:38.044277",
     "status": "completed"
    },
    "tags": []
   },
   "outputs": [],
   "source": [
    "config_dict = {\n",
    "    \"USER_ID_FIELD\": \"user_id\",\n",
    "    \"ITEM_ID_FIELD\": \"item_id\",\n",
    "    \"TIME_FIELD\": \"timestamp\",\n",
    "    'load_col': {'inter': [\"user_id\", \"item_id\", \"rating\", \"timestamp\"], 'item': ['item_id', 'description', 'customers_count', 'messages_count', 'type', 'region_id', 'themeid', 'business_category', 'business_parent']},\n",
    "    \"ITEM_LIST_LENGTH_FIELD\": \"item_length\",\n",
    "    \"LIST_SUFFIX\": \"_list\",\n",
    "    \"MAX_ITEM_LIST_LENGTH\": 7,  # max sequence\n",
    "    \"embedding_size\": 256, # embedding size\n",
    "    \"hidden_size\": 512, # hidden layers\n",
    "    \"num_layers\": 2,  # hidden layers count\n",
    "    \"dropout_prob\": 0.3,  # dropout rate\n",
    "    \"loss_type\": \"CE\",  # loss function\n",
    "    \"epochs\": 4,\n",
    "    \"train_batch_size\": 2048,\n",
    "    \"eval_batch_size\": 2048,\n",
    "    \"train_neg_sample_args\": None, # negative sampling -> DISABLED\n",
    "     # Validation params\n",
    "    \"eval_args\": {\n",
    "        \"group_by\": \"user\", # users groups\n",
    "        \"order\": \"TO\", # timestamps sort\n",
    "        \"split\": {\"LS\": \"valid_only\"}, # leave-one-out validation\n",
    "        \"mode\": \"full\", # use all data for inference\n",
    "    },\n",
    "    \"metrics\": [\"Recall\", \"MRR\", \"NDCG\", \"Hit\", \"Precision\", \"MAP\"],\n",
    "    \"topk\": 14,\n",
    "    \"valid_metric\": \"MAP@14\", # Validation metric\n",
    "    # соревнования\n",
    "    \"data_path\": \"/kaggle/working/vk_data/\",\n",
    "    \"stopping_step\": 3, # Early Stopping\n",
    "    \"device\": DEVICE,\n",
    "}"
   ]
  },
  {
   "cell_type": "code",
   "execution_count": 7,
   "id": "771108a4",
   "metadata": {
    "execution": {
     "iopub.execute_input": "2024-10-31T09:44:38.076503Z",
     "iopub.status.busy": "2024-10-31T09:44:38.075941Z",
     "iopub.status.idle": "2024-10-31T10:09:13.168543Z",
     "shell.execute_reply": "2024-10-31T10:09:13.167623Z"
    },
    "papermill": {
     "duration": 1475.103144,
     "end_time": "2024-10-31T10:09:13.171498",
     "exception": false,
     "start_time": "2024-10-31T09:44:38.068354",
     "status": "completed"
    },
    "tags": []
   },
   "outputs": [
    {
     "name": "stderr",
     "output_type": "stream",
     "text": [
      "/opt/conda/lib/python3.10/site-packages/recbole/data/dataset/dataset.py:501: FutureWarning: A value is trying to be set on a copy of a DataFrame or Series through chained assignment using an inplace method.\n",
      "The behavior will change in pandas 3.0. This inplace method will never work because the intermediate object on which we are setting values always behaves as a copy.\n",
      "\n",
      "For example, when doing 'df[col].method(value, inplace=True)', try using 'df.method({col: value}, inplace=True)' or df[col] = df[col].method(value) instead, to perform the operation inplace on the original object.\n",
      "\n",
      "\n",
      "  df[field].fillna(value=\"\", inplace=True)\n",
      "/opt/conda/lib/python3.10/site-packages/recbole/data/dataset/dataset.py:1217: FutureWarning: using <built-in function len> in Series.agg cannot aggregate and has been deprecated. Use Series.transform to keep behavior unchanged.\n",
      "  split_point = np.cumsum(feat[field].agg(len))[:-1]\n",
      "/opt/conda/lib/python3.10/site-packages/recbole/data/dataset/dataset.py:648: FutureWarning: A value is trying to be set on a copy of a DataFrame or Series through chained assignment using an inplace method.\n",
      "The behavior will change in pandas 3.0. This inplace method will never work because the intermediate object on which we are setting values always behaves as a copy.\n",
      "\n",
      "For example, when doing 'df[col].method(value, inplace=True)', try using 'df.method({col: value}, inplace=True)' or df[col] = df[col].method(value) instead, to perform the operation inplace on the original object.\n",
      "\n",
      "\n",
      "  feat[field].fillna(value=0, inplace=True)\n",
      "/opt/conda/lib/python3.10/site-packages/recbole/data/dataset/dataset.py:650: FutureWarning: A value is trying to be set on a copy of a DataFrame or Series through chained assignment using an inplace method.\n",
      "The behavior will change in pandas 3.0. This inplace method will never work because the intermediate object on which we are setting values always behaves as a copy.\n",
      "\n",
      "For example, when doing 'df[col].method(value, inplace=True)', try using 'df.method({col: value}, inplace=True)' or df[col] = df[col].method(value) instead, to perform the operation inplace on the original object.\n",
      "\n",
      "\n",
      "  feat[field].fillna(value=feat[field].mean(), inplace=True)\n",
      "/opt/conda/lib/python3.10/site-packages/recbole/trainer/trainer.py:235: FutureWarning: `torch.cuda.amp.GradScaler(args...)` is deprecated. Please use `torch.amp.GradScaler('cuda', args...)` instead.\n",
      "  scaler = amp.GradScaler(enabled=self.enable_scaler)\n"
     ]
    }
   ],
   "source": [
    "config = Config(model='GRU4Rec', dataset='full_train', config_dict=config_dict)\n",
    "logger = getLogger()\n",
    "init_logger(config)\n",
    "\n",
    "dataset = create_dataset(config)\n",
    "train_data, valid_data, _ = data_preparation(config, dataset)\n",
    "model = GRU4Rec(config, train_data.dataset).to(config['device'])\n",
    "trainer = Trainer(config, model)\n",
    "\n",
    "best_valid_score, best_valid_result = trainer.fit(train_data, valid_data)"
   ]
  },
  {
   "cell_type": "markdown",
   "id": "b5205ad6",
   "metadata": {
    "papermill": {
     "duration": 0.00789,
     "end_time": "2024-10-31T10:09:13.187271",
     "exception": false,
     "start_time": "2024-10-31T10:09:13.179381",
     "status": "completed"
    },
    "tags": []
   },
   "source": [
    "## Step 4: Making Predictions\n",
    "Finally, we generate predictions for users in the test dataset and save the results in a CSV file."
   ]
  },
  {
   "cell_type": "code",
   "execution_count": 8,
   "id": "368d6636",
   "metadata": {
    "execution": {
     "iopub.execute_input": "2024-10-31T10:09:13.203282Z",
     "iopub.status.busy": "2024-10-31T10:09:13.202590Z",
     "iopub.status.idle": "2024-10-31T10:09:13.534491Z",
     "shell.execute_reply": "2024-10-31T10:09:13.533461Z"
    },
    "papermill": {
     "duration": 0.342498,
     "end_time": "2024-10-31T10:09:13.536900",
     "exception": false,
     "start_time": "2024-10-31T10:09:13.194402",
     "status": "completed"
    },
    "tags": []
   },
   "outputs": [],
   "source": [
    "test_customers = pd.read_csv(\"/kaggle/input/vk-recsys-test/test_customer_ids.csv\")\n",
    "\n",
    "topk_items = []\n",
    "ext_users = []\n",
    "test_user_indices = []\n",
    "\n",
    "for ext_user_id in test_customers['customer_id'].values:\n",
    "    try:\n",
    "        user_index = dataset.token2id(dataset.uid_field, ext_user_id)\n",
    "        ext_users.append(ext_user_id)\n",
    "        test_user_indices.append(user_index)\n",
    "    except ValueError:\n",
    "        continue"
   ]
  },
  {
   "cell_type": "code",
   "execution_count": 9,
   "id": "64ed0501",
   "metadata": {
    "execution": {
     "iopub.execute_input": "2024-10-31T10:09:13.552950Z",
     "iopub.status.busy": "2024-10-31T10:09:13.552635Z",
     "iopub.status.idle": "2024-10-31T10:10:51.045419Z",
     "shell.execute_reply": "2024-10-31T10:10:51.044192Z"
    },
    "papermill": {
     "duration": 97.504198,
     "end_time": "2024-10-31T10:10:51.048590",
     "exception": false,
     "start_time": "2024-10-31T10:09:13.544392",
     "status": "completed"
    },
    "tags": []
   },
   "outputs": [],
   "source": [
    "batch_size = 5000  # Batch size\n",
    "result_df = pd.DataFrame(columns=['User', 'Groups'])\n",
    "\n",
    "for i in range(0, len(test_user_indices), batch_size):\n",
    "    batch_indices = test_user_indices[i:i + batch_size]\n",
    "    batch_ext_users = ext_users[i:i + batch_size]\n",
    "    \n",
    "    topk_iid_list_batch = full_sort_topk(batch_indices, model, valid_data, k=14, device=DEVICE)\n",
    "    last_topk_iid_list = topk_iid_list_batch.indices\n",
    "    external_item_list = dataset.id2token(dataset.iid_field, last_topk_iid_list.cpu()).tolist()\n",
    "    \n",
    "    temp_df = pd.DataFrame({'User': batch_ext_users, 'Groups': external_item_list})\n",
    "\n",
    "    result_df = pd.concat([result_df, temp_df], ignore_index=True)"
   ]
  },
  {
   "cell_type": "code",
   "execution_count": 10,
   "id": "7c53b495",
   "metadata": {
    "execution": {
     "iopub.execute_input": "2024-10-31T10:10:51.070886Z",
     "iopub.status.busy": "2024-10-31T10:10:51.070364Z",
     "iopub.status.idle": "2024-10-31T10:10:57.047935Z",
     "shell.execute_reply": "2024-10-31T10:10:57.046946Z"
    },
    "papermill": {
     "duration": 5.990803,
     "end_time": "2024-10-31T10:10:57.050035",
     "exception": false,
     "start_time": "2024-10-31T10:10:51.059232",
     "status": "completed"
    },
    "tags": []
   },
   "outputs": [
    {
     "name": "stdout",
     "output_type": "stream",
     "text": [
      "Results saved to result.csv\n"
     ]
    }
   ],
   "source": [
    "csv_file_path = 'result.csv'\n",
    "result_df.to_csv(csv_file_path, index=False)\n",
    "print(f'Results saved to {csv_file_path}')"
   ]
  }
 ],
 "metadata": {
  "kaggle": {
   "accelerator": "gpu",
   "dataSources": [
    {
     "datasetId": 5974959,
     "sourceId": 9757825,
     "sourceType": "datasetVersion"
    },
    {
     "datasetId": 5974978,
     "sourceId": 9757857,
     "sourceType": "datasetVersion"
    }
   ],
   "isGpuEnabled": true,
   "isInternetEnabled": true,
   "language": "python",
   "sourceType": "notebook"
  },
  "kernelspec": {
   "display_name": "Python 3",
   "language": "python",
   "name": "python3"
  },
  "language_info": {
   "codemirror_mode": {
    "name": "ipython",
    "version": 3
   },
   "file_extension": ".py",
   "mimetype": "text/x-python",
   "name": "python",
   "nbconvert_exporter": "python",
   "pygments_lexer": "ipython3",
   "version": "3.10.14"
  },
  "papermill": {
   "default_parameters": {},
   "duration": 2014.449058,
   "end_time": "2024-10-31T10:11:00.307368",
   "environment_variables": {},
   "exception": null,
   "input_path": "__notebook__.ipynb",
   "output_path": "__notebook__.ipynb",
   "parameters": {},
   "start_time": "2024-10-31T09:37:25.858310",
   "version": "2.6.0"
  }
 },
 "nbformat": 4,
 "nbformat_minor": 5
}
