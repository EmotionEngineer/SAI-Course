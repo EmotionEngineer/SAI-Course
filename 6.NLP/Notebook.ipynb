{
 "cells": [
  {
   "cell_type": "markdown",
   "id": "c45f8ace",
   "metadata": {
    "papermill": {
     "duration": 0.005521,
     "end_time": "2024-10-29T16:00:39.648721",
     "exception": false,
     "start_time": "2024-10-29T16:00:39.643200",
     "status": "completed"
    },
    "tags": []
   },
   "source": [
    "# Disaster Tweets Classification with NLP\n",
    "\n",
    "In this notebook, we will use the **Disaster Tweets** dataset to classify tweets as disaster-related or not. We will use Natural Language Processing (NLP) techniques and explore different models, including **Naive Bayes**, **LSTM**, and **CatBoost** with text features."
   ]
  },
  {
   "cell_type": "code",
   "execution_count": 1,
   "id": "c82dd91d",
   "metadata": {
    "execution": {
     "iopub.execute_input": "2024-10-29T16:00:39.659978Z",
     "iopub.status.busy": "2024-10-29T16:00:39.659617Z",
     "iopub.status.idle": "2024-10-29T16:00:52.699265Z",
     "shell.execute_reply": "2024-10-29T16:00:52.698104Z"
    },
    "papermill": {
     "duration": 13.047901,
     "end_time": "2024-10-29T16:00:52.701652",
     "exception": false,
     "start_time": "2024-10-29T16:00:39.653751",
     "status": "completed"
    },
    "tags": []
   },
   "outputs": [
    {
     "name": "stdout",
     "output_type": "stream",
     "text": [
      "Requirement already satisfied: catboost in /opt/conda/lib/python3.10/site-packages (1.2.7)\r\n",
      "Requirement already satisfied: nltk in /opt/conda/lib/python3.10/site-packages (3.2.4)\r\n",
      "Requirement already satisfied: tensorflow in /opt/conda/lib/python3.10/site-packages (2.16.1)\r\n",
      "Requirement already satisfied: graphviz in /opt/conda/lib/python3.10/site-packages (from catboost) (0.20.3)\r\n",
      "Requirement already satisfied: matplotlib in /opt/conda/lib/python3.10/site-packages (from catboost) (3.7.5)\r\n",
      "Requirement already satisfied: numpy<2.0,>=1.16.0 in /opt/conda/lib/python3.10/site-packages (from catboost) (1.26.4)\r\n",
      "Requirement already satisfied: pandas>=0.24 in /opt/conda/lib/python3.10/site-packages (from catboost) (2.2.2)\r\n",
      "Requirement already satisfied: scipy in /opt/conda/lib/python3.10/site-packages (from catboost) (1.14.1)\r\n",
      "Requirement already satisfied: plotly in /opt/conda/lib/python3.10/site-packages (from catboost) (5.22.0)\r\n",
      "Requirement already satisfied: six in /opt/conda/lib/python3.10/site-packages (from catboost) (1.16.0)\r\n",
      "Requirement already satisfied: absl-py>=1.0.0 in /opt/conda/lib/python3.10/site-packages (from tensorflow) (1.4.0)\r\n",
      "Requirement already satisfied: astunparse>=1.6.0 in /opt/conda/lib/python3.10/site-packages (from tensorflow) (1.6.3)\r\n",
      "Requirement already satisfied: flatbuffers>=23.5.26 in /opt/conda/lib/python3.10/site-packages (from tensorflow) (24.3.25)\r\n",
      "Requirement already satisfied: gast!=0.5.0,!=0.5.1,!=0.5.2,>=0.2.1 in /opt/conda/lib/python3.10/site-packages (from tensorflow) (0.5.4)\r\n",
      "Requirement already satisfied: google-pasta>=0.1.1 in /opt/conda/lib/python3.10/site-packages (from tensorflow) (0.2.0)\r\n",
      "Requirement already satisfied: h5py>=3.10.0 in /opt/conda/lib/python3.10/site-packages (from tensorflow) (3.11.0)\r\n",
      "Requirement already satisfied: libclang>=13.0.0 in /opt/conda/lib/python3.10/site-packages (from tensorflow) (18.1.1)\r\n",
      "Requirement already satisfied: ml-dtypes~=0.3.1 in /opt/conda/lib/python3.10/site-packages (from tensorflow) (0.3.2)\r\n",
      "Requirement already satisfied: opt-einsum>=2.3.2 in /opt/conda/lib/python3.10/site-packages (from tensorflow) (3.3.0)\r\n",
      "Requirement already satisfied: packaging in /opt/conda/lib/python3.10/site-packages (from tensorflow) (21.3)\r\n",
      "Requirement already satisfied: protobuf!=4.21.0,!=4.21.1,!=4.21.2,!=4.21.3,!=4.21.4,!=4.21.5,<5.0.0dev,>=3.20.3 in /opt/conda/lib/python3.10/site-packages (from tensorflow) (3.20.3)\r\n",
      "Requirement already satisfied: requests<3,>=2.21.0 in /opt/conda/lib/python3.10/site-packages (from tensorflow) (2.32.3)\r\n",
      "Requirement already satisfied: setuptools in /opt/conda/lib/python3.10/site-packages (from tensorflow) (70.0.0)\r\n",
      "Requirement already satisfied: termcolor>=1.1.0 in /opt/conda/lib/python3.10/site-packages (from tensorflow) (2.4.0)\r\n",
      "Requirement already satisfied: typing-extensions>=3.6.6 in /opt/conda/lib/python3.10/site-packages (from tensorflow) (4.12.2)\r\n",
      "Requirement already satisfied: wrapt>=1.11.0 in /opt/conda/lib/python3.10/site-packages (from tensorflow) (1.16.0)\r\n",
      "Requirement already satisfied: grpcio<2.0,>=1.24.3 in /opt/conda/lib/python3.10/site-packages (from tensorflow) (1.62.2)\r\n",
      "Requirement already satisfied: tensorboard<2.17,>=2.16 in /opt/conda/lib/python3.10/site-packages (from tensorflow) (2.16.2)\r\n",
      "Requirement already satisfied: keras>=3.0.0 in /opt/conda/lib/python3.10/site-packages (from tensorflow) (3.3.3)\r\n",
      "Requirement already satisfied: tensorflow-io-gcs-filesystem>=0.23.1 in /opt/conda/lib/python3.10/site-packages (from tensorflow) (0.37.0)\r\n",
      "Requirement already satisfied: wheel<1.0,>=0.23.0 in /opt/conda/lib/python3.10/site-packages (from astunparse>=1.6.0->tensorflow) (0.43.0)\r\n",
      "Requirement already satisfied: rich in /opt/conda/lib/python3.10/site-packages (from keras>=3.0.0->tensorflow) (13.7.1)\r\n",
      "Requirement already satisfied: namex in /opt/conda/lib/python3.10/site-packages (from keras>=3.0.0->tensorflow) (0.0.8)\r\n",
      "Requirement already satisfied: optree in /opt/conda/lib/python3.10/site-packages (from keras>=3.0.0->tensorflow) (0.11.0)\r\n",
      "Requirement already satisfied: python-dateutil>=2.8.2 in /opt/conda/lib/python3.10/site-packages (from pandas>=0.24->catboost) (2.9.0.post0)\r\n",
      "Requirement already satisfied: pytz>=2020.1 in /opt/conda/lib/python3.10/site-packages (from pandas>=0.24->catboost) (2024.1)\r\n",
      "Requirement already satisfied: tzdata>=2022.7 in /opt/conda/lib/python3.10/site-packages (from pandas>=0.24->catboost) (2024.1)\r\n",
      "Requirement already satisfied: charset-normalizer<4,>=2 in /opt/conda/lib/python3.10/site-packages (from requests<3,>=2.21.0->tensorflow) (3.3.2)\r\n",
      "Requirement already satisfied: idna<4,>=2.5 in /opt/conda/lib/python3.10/site-packages (from requests<3,>=2.21.0->tensorflow) (3.7)\r\n",
      "Requirement already satisfied: urllib3<3,>=1.21.1 in /opt/conda/lib/python3.10/site-packages (from requests<3,>=2.21.0->tensorflow) (1.26.18)\r\n",
      "Requirement already satisfied: certifi>=2017.4.17 in /opt/conda/lib/python3.10/site-packages (from requests<3,>=2.21.0->tensorflow) (2024.8.30)\r\n",
      "Requirement already satisfied: markdown>=2.6.8 in /opt/conda/lib/python3.10/site-packages (from tensorboard<2.17,>=2.16->tensorflow) (3.6)\r\n",
      "Requirement already satisfied: tensorboard-data-server<0.8.0,>=0.7.0 in /opt/conda/lib/python3.10/site-packages (from tensorboard<2.17,>=2.16->tensorflow) (0.7.2)\r\n",
      "Requirement already satisfied: werkzeug>=1.0.1 in /opt/conda/lib/python3.10/site-packages (from tensorboard<2.17,>=2.16->tensorflow) (3.0.4)\r\n",
      "Requirement already satisfied: contourpy>=1.0.1 in /opt/conda/lib/python3.10/site-packages (from matplotlib->catboost) (1.2.1)\r\n",
      "Requirement already satisfied: cycler>=0.10 in /opt/conda/lib/python3.10/site-packages (from matplotlib->catboost) (0.12.1)\r\n",
      "Requirement already satisfied: fonttools>=4.22.0 in /opt/conda/lib/python3.10/site-packages (from matplotlib->catboost) (4.53.0)\r\n",
      "Requirement already satisfied: kiwisolver>=1.0.1 in /opt/conda/lib/python3.10/site-packages (from matplotlib->catboost) (1.4.5)\r\n",
      "Requirement already satisfied: pillow>=6.2.0 in /opt/conda/lib/python3.10/site-packages (from matplotlib->catboost) (10.3.0)\r\n",
      "Requirement already satisfied: pyparsing>=2.3.1 in /opt/conda/lib/python3.10/site-packages (from matplotlib->catboost) (3.1.2)\r\n",
      "Requirement already satisfied: tenacity>=6.2.0 in /opt/conda/lib/python3.10/site-packages (from plotly->catboost) (8.3.0)\r\n",
      "Requirement already satisfied: MarkupSafe>=2.1.1 in /opt/conda/lib/python3.10/site-packages (from werkzeug>=1.0.1->tensorboard<2.17,>=2.16->tensorflow) (2.1.5)\r\n",
      "Requirement already satisfied: markdown-it-py>=2.2.0 in /opt/conda/lib/python3.10/site-packages (from rich->keras>=3.0.0->tensorflow) (3.0.0)\r\n",
      "Requirement already satisfied: pygments<3.0.0,>=2.13.0 in /opt/conda/lib/python3.10/site-packages (from rich->keras>=3.0.0->tensorflow) (2.18.0)\r\n",
      "Requirement already satisfied: mdurl~=0.1 in /opt/conda/lib/python3.10/site-packages (from markdown-it-py>=2.2.0->rich->keras>=3.0.0->tensorflow) (0.1.2)\r\n"
     ]
    }
   ],
   "source": [
    "# Install required libraries\n",
    "!pip install catboost nltk tensorflow"
   ]
  },
  {
   "cell_type": "code",
   "execution_count": 2,
   "id": "cd9b746e",
   "metadata": {
    "execution": {
     "iopub.execute_input": "2024-10-29T16:00:52.715154Z",
     "iopub.status.busy": "2024-10-29T16:00:52.714472Z",
     "iopub.status.idle": "2024-10-29T16:01:07.756128Z",
     "shell.execute_reply": "2024-10-29T16:01:07.755181Z"
    },
    "papermill": {
     "duration": 15.050422,
     "end_time": "2024-10-29T16:01:07.758089",
     "exception": false,
     "start_time": "2024-10-29T16:00:52.707667",
     "status": "completed"
    },
    "tags": []
   },
   "outputs": [
    {
     "name": "stdout",
     "output_type": "stream",
     "text": [
      "[nltk_data] Downloading package stopwords to /usr/share/nltk_data...\n",
      "[nltk_data]   Package stopwords is already up-to-date!\n",
      "[nltk_data] Downloading package punkt to /usr/share/nltk_data...\n",
      "[nltk_data]   Package punkt is already up-to-date!\n",
      "[nltk_data] Downloading package wordnet to /usr/share/nltk_data...\n",
      "[nltk_data]   Package wordnet is already up-to-date!\n"
     ]
    },
    {
     "data": {
      "text/plain": [
       "True"
      ]
     },
     "execution_count": 2,
     "metadata": {},
     "output_type": "execute_result"
    }
   ],
   "source": [
    "# Import libraries\n",
    "import numpy as np\n",
    "import pandas as pd\n",
    "import matplotlib.pyplot as plt\n",
    "import seaborn as sns\n",
    "import nltk\n",
    "import re\n",
    "from nltk.corpus import stopwords\n",
    "from nltk.tokenize import word_tokenize\n",
    "from nltk.stem import WordNetLemmatizer\n",
    "from sklearn.model_selection import train_test_split\n",
    "from sklearn.metrics import accuracy_score, classification_report\n",
    "from sklearn.feature_extraction.text import TfidfVectorizer\n",
    "from sklearn.naive_bayes import MultinomialNB\n",
    "from tensorflow.keras.models import Sequential\n",
    "from tensorflow.keras.layers import LSTM, Dense, Embedding, SpatialDropout1D\n",
    "from tensorflow.keras.preprocessing.text import Tokenizer\n",
    "from tensorflow.keras.preprocessing.sequence import pad_sequences\n",
    "from catboost import CatBoostClassifier, Pool\n",
    "\n",
    "nltk.download('stopwords')\n",
    "nltk.download('punkt')\n",
    "nltk.download('wordnet')"
   ]
  },
  {
   "cell_type": "code",
   "execution_count": 3,
   "id": "7b6decff",
   "metadata": {
    "execution": {
     "iopub.execute_input": "2024-10-29T16:01:07.772579Z",
     "iopub.status.busy": "2024-10-29T16:01:07.771992Z",
     "iopub.status.idle": "2024-10-29T16:01:09.064522Z",
     "shell.execute_reply": "2024-10-29T16:01:09.063520Z"
    },
    "papermill": {
     "duration": 1.302434,
     "end_time": "2024-10-29T16:01:09.066576",
     "exception": false,
     "start_time": "2024-10-29T16:01:07.764142",
     "status": "completed"
    },
    "tags": []
   },
   "outputs": [
    {
     "name": "stderr",
     "output_type": "stream",
     "text": [
      "/opt/conda/lib/python3.10/pty.py:89: RuntimeWarning: os.fork() was called. os.fork() is incompatible with multithreaded code, and JAX is multithreaded, so this will likely lead to a deadlock.\n",
      "  pid, fd = os.forkpty()\n"
     ]
    },
    {
     "name": "stdout",
     "output_type": "stream",
     "text": [
      "Archive:  /usr/share/nltk_data/corpora/wordnet.zip\r\n",
      "   creating: /usr/share/nltk_data/corpora/wordnet/\r\n",
      "  inflating: /usr/share/nltk_data/corpora/wordnet/lexnames  \r\n",
      "  inflating: /usr/share/nltk_data/corpora/wordnet/data.verb  \r\n",
      "  inflating: /usr/share/nltk_data/corpora/wordnet/index.adv  \r\n",
      "  inflating: /usr/share/nltk_data/corpora/wordnet/adv.exc  \r\n",
      "  inflating: /usr/share/nltk_data/corpora/wordnet/index.verb  \r\n",
      "  inflating: /usr/share/nltk_data/corpora/wordnet/cntlist.rev  \r\n",
      "  inflating: /usr/share/nltk_data/corpora/wordnet/data.adj  \r\n",
      "  inflating: /usr/share/nltk_data/corpora/wordnet/index.adj  \r\n",
      "  inflating: /usr/share/nltk_data/corpora/wordnet/LICENSE  \r\n",
      "  inflating: /usr/share/nltk_data/corpora/wordnet/citation.bib  \r\n",
      "  inflating: /usr/share/nltk_data/corpora/wordnet/noun.exc  \r\n",
      "  inflating: /usr/share/nltk_data/corpora/wordnet/verb.exc  \r\n",
      "  inflating: /usr/share/nltk_data/corpora/wordnet/README  \r\n",
      "  inflating: /usr/share/nltk_data/corpora/wordnet/index.sense  \r\n",
      "  inflating: /usr/share/nltk_data/corpora/wordnet/data.noun  \r\n",
      "  inflating: /usr/share/nltk_data/corpora/wordnet/data.adv  \r\n",
      "  inflating: /usr/share/nltk_data/corpora/wordnet/index.noun  \r\n",
      "  inflating: /usr/share/nltk_data/corpora/wordnet/adj.exc  \r\n"
     ]
    }
   ],
   "source": [
    "!unzip /usr/share/nltk_data/corpora/wordnet.zip -d /usr/share/nltk_data/corpora/"
   ]
  },
  {
   "cell_type": "markdown",
   "id": "7606ac49",
   "metadata": {
    "papermill": {
     "duration": 0.006079,
     "end_time": "2024-10-29T16:01:09.079193",
     "exception": false,
     "start_time": "2024-10-29T16:01:09.073114",
     "status": "completed"
    },
    "tags": []
   },
   "source": [
    "## 1. Load the Dataset\n",
    "\n",
    "We will use the [Disaster Tweets dataset](https://www.kaggle.com/c/nlp-getting-started/data), which contains tweets labeled as disaster (1) or non-disaster (0)."
   ]
  },
  {
   "cell_type": "code",
   "execution_count": 4,
   "id": "001e8adc",
   "metadata": {
    "execution": {
     "iopub.execute_input": "2024-10-29T16:01:09.093717Z",
     "iopub.status.busy": "2024-10-29T16:01:09.092842Z",
     "iopub.status.idle": "2024-10-29T16:01:09.157926Z",
     "shell.execute_reply": "2024-10-29T16:01:09.156915Z"
    },
    "papermill": {
     "duration": 0.074398,
     "end_time": "2024-10-29T16:01:09.159864",
     "exception": false,
     "start_time": "2024-10-29T16:01:09.085466",
     "status": "completed"
    },
    "tags": []
   },
   "outputs": [
    {
     "data": {
      "text/html": [
       "<div>\n",
       "<style scoped>\n",
       "    .dataframe tbody tr th:only-of-type {\n",
       "        vertical-align: middle;\n",
       "    }\n",
       "\n",
       "    .dataframe tbody tr th {\n",
       "        vertical-align: top;\n",
       "    }\n",
       "\n",
       "    .dataframe thead th {\n",
       "        text-align: right;\n",
       "    }\n",
       "</style>\n",
       "<table border=\"1\" class=\"dataframe\">\n",
       "  <thead>\n",
       "    <tr style=\"text-align: right;\">\n",
       "      <th></th>\n",
       "      <th>id</th>\n",
       "      <th>keyword</th>\n",
       "      <th>location</th>\n",
       "      <th>text</th>\n",
       "      <th>target</th>\n",
       "    </tr>\n",
       "  </thead>\n",
       "  <tbody>\n",
       "    <tr>\n",
       "      <th>0</th>\n",
       "      <td>1</td>\n",
       "      <td>NaN</td>\n",
       "      <td>NaN</td>\n",
       "      <td>Our Deeds are the Reason of this #earthquake M...</td>\n",
       "      <td>1</td>\n",
       "    </tr>\n",
       "    <tr>\n",
       "      <th>1</th>\n",
       "      <td>4</td>\n",
       "      <td>NaN</td>\n",
       "      <td>NaN</td>\n",
       "      <td>Forest fire near La Ronge Sask. Canada</td>\n",
       "      <td>1</td>\n",
       "    </tr>\n",
       "    <tr>\n",
       "      <th>2</th>\n",
       "      <td>5</td>\n",
       "      <td>NaN</td>\n",
       "      <td>NaN</td>\n",
       "      <td>All residents asked to 'shelter in place' are ...</td>\n",
       "      <td>1</td>\n",
       "    </tr>\n",
       "    <tr>\n",
       "      <th>3</th>\n",
       "      <td>6</td>\n",
       "      <td>NaN</td>\n",
       "      <td>NaN</td>\n",
       "      <td>13,000 people receive #wildfires evacuation or...</td>\n",
       "      <td>1</td>\n",
       "    </tr>\n",
       "    <tr>\n",
       "      <th>4</th>\n",
       "      <td>7</td>\n",
       "      <td>NaN</td>\n",
       "      <td>NaN</td>\n",
       "      <td>Just got sent this photo from Ruby #Alaska as ...</td>\n",
       "      <td>1</td>\n",
       "    </tr>\n",
       "  </tbody>\n",
       "</table>\n",
       "</div>"
      ],
      "text/plain": [
       "   id keyword location                                               text  \\\n",
       "0   1     NaN      NaN  Our Deeds are the Reason of this #earthquake M...   \n",
       "1   4     NaN      NaN             Forest fire near La Ronge Sask. Canada   \n",
       "2   5     NaN      NaN  All residents asked to 'shelter in place' are ...   \n",
       "3   6     NaN      NaN  13,000 people receive #wildfires evacuation or...   \n",
       "4   7     NaN      NaN  Just got sent this photo from Ruby #Alaska as ...   \n",
       "\n",
       "   target  \n",
       "0       1  \n",
       "1       1  \n",
       "2       1  \n",
       "3       1  \n",
       "4       1  "
      ]
     },
     "execution_count": 4,
     "metadata": {},
     "output_type": "execute_result"
    }
   ],
   "source": [
    "# Load the dataset\n",
    "df = pd.read_csv(\"../input/nlp-getting-started/train.csv\")\n",
    "df.head()"
   ]
  },
  {
   "cell_type": "code",
   "execution_count": 5,
   "id": "3848257f",
   "metadata": {
    "execution": {
     "iopub.execute_input": "2024-10-29T16:01:09.175100Z",
     "iopub.status.busy": "2024-10-29T16:01:09.174740Z",
     "iopub.status.idle": "2024-10-29T16:01:09.437457Z",
     "shell.execute_reply": "2024-10-29T16:01:09.436595Z"
    },
    "papermill": {
     "duration": 0.27231,
     "end_time": "2024-10-29T16:01:09.439461",
     "exception": false,
     "start_time": "2024-10-29T16:01:09.167151",
     "status": "completed"
    },
    "tags": []
   },
   "outputs": [
    {
     "name": "stdout",
     "output_type": "stream",
     "text": [
      "<class 'pandas.core.frame.DataFrame'>\n",
      "RangeIndex: 7613 entries, 0 to 7612\n",
      "Data columns (total 5 columns):\n",
      " #   Column    Non-Null Count  Dtype \n",
      "---  ------    --------------  ----- \n",
      " 0   id        7613 non-null   int64 \n",
      " 1   keyword   7552 non-null   object\n",
      " 2   location  5080 non-null   object\n",
      " 3   text      7613 non-null   object\n",
      " 4   target    7613 non-null   int64 \n",
      "dtypes: int64(2), object(3)\n",
      "memory usage: 297.5+ KB\n"
     ]
    },
    {
     "data": {
      "image/png": "[encoded data removed]",
      "text/plain": [
       "<Figure size 640x480 with 1 Axes>"
      ]
     },
     "metadata": {},
     "output_type": "display_data"
    }
   ],
   "source": [
    "# Checking for null values and basic statistics\n",
    "df.info()\n",
    "\n",
    "# Visualizing the distribution of the target\n",
    "sns.countplot(data=df, x='target')\n",
    "plt.title('Disaster vs. Non-Disaster Tweets')\n",
    "plt.show()"
   ]
  },
  {
   "cell_type": "markdown",
   "id": "b4cb565c",
   "metadata": {
    "papermill": {
     "duration": 0.006719,
     "end_time": "2024-10-29T16:01:09.453238",
     "exception": false,
     "start_time": "2024-10-29T16:01:09.446519",
     "status": "completed"
    },
    "tags": []
   },
   "source": [
    "## 2. Data Preprocessing\n",
    "\n",
    "We will clean and preprocess the text data by removing stopwords, tokenizing, and lemmatizing."
   ]
  },
  {
   "cell_type": "code",
   "execution_count": 6,
   "id": "20316156",
   "metadata": {
    "execution": {
     "iopub.execute_input": "2024-10-29T16:01:09.468152Z",
     "iopub.status.busy": "2024-10-29T16:01:09.467848Z",
     "iopub.status.idle": "2024-10-29T16:01:13.503212Z",
     "shell.execute_reply": "2024-10-29T16:01:13.502267Z"
    },
    "papermill": {
     "duration": 4.045196,
     "end_time": "2024-10-29T16:01:13.505312",
     "exception": false,
     "start_time": "2024-10-29T16:01:09.460116",
     "status": "completed"
    },
    "tags": []
   },
   "outputs": [
    {
     "data": {
      "text/html": [
       "<div>\n",
       "<style scoped>\n",
       "    .dataframe tbody tr th:only-of-type {\n",
       "        vertical-align: middle;\n",
       "    }\n",
       "\n",
       "    .dataframe tbody tr th {\n",
       "        vertical-align: top;\n",
       "    }\n",
       "\n",
       "    .dataframe thead th {\n",
       "        text-align: right;\n",
       "    }\n",
       "</style>\n",
       "<table border=\"1\" class=\"dataframe\">\n",
       "  <thead>\n",
       "    <tr style=\"text-align: right;\">\n",
       "      <th></th>\n",
       "      <th>text</th>\n",
       "      <th>text_cleaned</th>\n",
       "    </tr>\n",
       "  </thead>\n",
       "  <tbody>\n",
       "    <tr>\n",
       "      <th>0</th>\n",
       "      <td>Our Deeds are the Reason of this #earthquake M...</td>\n",
       "      <td>deed reason earthquake may allah forgive u</td>\n",
       "    </tr>\n",
       "    <tr>\n",
       "      <th>1</th>\n",
       "      <td>Forest fire near La Ronge Sask. Canada</td>\n",
       "      <td>forest fire near la ronge sask canada</td>\n",
       "    </tr>\n",
       "    <tr>\n",
       "      <th>2</th>\n",
       "      <td>All residents asked to 'shelter in place' are ...</td>\n",
       "      <td>resident asked shelter place notified officer ...</td>\n",
       "    </tr>\n",
       "    <tr>\n",
       "      <th>3</th>\n",
       "      <td>13,000 people receive #wildfires evacuation or...</td>\n",
       "      <td>people receive wildfire evacuation order calif...</td>\n",
       "    </tr>\n",
       "    <tr>\n",
       "      <th>4</th>\n",
       "      <td>Just got sent this photo from Ruby #Alaska as ...</td>\n",
       "      <td>got sent photo ruby alaska smoke wildfire pour...</td>\n",
       "    </tr>\n",
       "  </tbody>\n",
       "</table>\n",
       "</div>"
      ],
      "text/plain": [
       "                                                text  \\\n",
       "0  Our Deeds are the Reason of this #earthquake M...   \n",
       "1             Forest fire near La Ronge Sask. Canada   \n",
       "2  All residents asked to 'shelter in place' are ...   \n",
       "3  13,000 people receive #wildfires evacuation or...   \n",
       "4  Just got sent this photo from Ruby #Alaska as ...   \n",
       "\n",
       "                                        text_cleaned  \n",
       "0         deed reason earthquake may allah forgive u  \n",
       "1              forest fire near la ronge sask canada  \n",
       "2  resident asked shelter place notified officer ...  \n",
       "3  people receive wildfire evacuation order calif...  \n",
       "4  got sent photo ruby alaska smoke wildfire pour...  "
      ]
     },
     "execution_count": 6,
     "metadata": {},
     "output_type": "execute_result"
    }
   ],
   "source": [
    "# Preprocessing functions\n",
    "stop_words = set(stopwords.words('english'))\n",
    "lemmatizer = WordNetLemmatizer()\n",
    "\n",
    "def preprocess_text(text):\n",
    "    text = re.sub(r'http\\S+', '', text.lower())  # Remove URLs\n",
    "    text = re.sub(r'[^a-z\\s]', '', text)  # Remove non-alphabetic characters\n",
    "    tokens = word_tokenize(text) # Tokenize text\n",
    "    tokens = [lemmatizer.lemmatize(word) for word in tokens if word.isalpha() and word not in stop_words]\n",
    "    return ' '.join(tokens)\n",
    "\n",
    "# Apply preprocessing\n",
    "df['text_cleaned'] = df['text'].apply(preprocess_text)\n",
    "df[['text', 'text_cleaned']].head()"
   ]
  },
  {
   "cell_type": "markdown",
   "id": "9581879b",
   "metadata": {
    "papermill": {
     "duration": 0.007508,
     "end_time": "2024-10-29T16:01:13.520227",
     "exception": false,
     "start_time": "2024-10-29T16:01:13.512719",
     "status": "completed"
    },
    "tags": []
   },
   "source": [
    "## 3. Naive Bayes Model with TF-IDF\n",
    "\n",
    "We will vectorize the text data using TF-IDF and train a Naive Bayes model."
   ]
  },
  {
   "cell_type": "code",
   "execution_count": 7,
   "id": "7788e373",
   "metadata": {
    "execution": {
     "iopub.execute_input": "2024-10-29T16:01:13.535769Z",
     "iopub.status.busy": "2024-10-29T16:01:13.535438Z",
     "iopub.status.idle": "2024-10-29T16:01:14.127529Z",
     "shell.execute_reply": "2024-10-29T16:01:14.126274Z"
    },
    "papermill": {
     "duration": 0.604306,
     "end_time": "2024-10-29T16:01:14.131654",
     "exception": false,
     "start_time": "2024-10-29T16:01:13.527348",
     "status": "completed"
    },
    "tags": []
   },
   "outputs": [
    {
     "name": "stdout",
     "output_type": "stream",
     "text": [
      "Naive Bayes Accuracy: 0.8010505581089954\n",
      "              precision    recall  f1-score   support\n",
      "\n",
      "           0       0.79      0.88      0.84       874\n",
      "           1       0.81      0.69      0.75       649\n",
      "\n",
      "    accuracy                           0.80      1523\n",
      "   macro avg       0.80      0.79      0.79      1523\n",
      "weighted avg       0.80      0.80      0.80      1523\n",
      "\n"
     ]
    }
   ],
   "source": [
    "# TF-IDF Vectorization\n",
    "tfidf = TfidfVectorizer(max_features=5000)\n",
    "X_tfidf = tfidf.fit_transform(df['text_cleaned']).toarray()\n",
    "y = df['target']\n",
    "\n",
    "# Split data\n",
    "X_train, X_test, y_train, y_test = train_test_split(X_tfidf, y, test_size=0.2, random_state=42)\n",
    "\n",
    "# Train Naive Bayes model\n",
    "nb_model = MultinomialNB()\n",
    "nb_model.fit(X_train, y_train)\n",
    "\n",
    "# Evaluate\n",
    "y_pred_nb = nb_model.predict(X_test)\n",
    "print(\"Naive Bayes Accuracy:\", accuracy_score(y_test, y_pred_nb))\n",
    "print(classification_report(y_test, y_pred_nb))"
   ]
  },
  {
   "cell_type": "markdown",
   "id": "d05ccd4a",
   "metadata": {
    "papermill": {
     "duration": 0.014804,
     "end_time": "2024-10-29T16:01:14.162105",
     "exception": false,
     "start_time": "2024-10-29T16:01:14.147301",
     "status": "completed"
    },
    "tags": []
   },
   "source": [
    "## 4. LSTM Model\n",
    "\n",
    "Next, we will use an LSTM model with embedding and padding for sequence processing."
   ]
  },
  {
   "cell_type": "code",
   "execution_count": 8,
   "id": "a445fada",
   "metadata": {
    "execution": {
     "iopub.execute_input": "2024-10-29T16:01:14.195266Z",
     "iopub.status.busy": "2024-10-29T16:01:14.194697Z",
     "iopub.status.idle": "2024-10-29T16:02:14.975837Z",
     "shell.execute_reply": "2024-10-29T16:02:14.974901Z"
    },
    "papermill": {
     "duration": 60.799544,
     "end_time": "2024-10-29T16:02:14.977805",
     "exception": false,
     "start_time": "2024-10-29T16:01:14.178261",
     "status": "completed"
    },
    "tags": []
   },
   "outputs": [
    {
     "name": "stderr",
     "output_type": "stream",
     "text": [
      "/opt/conda/lib/python3.10/site-packages/keras/src/layers/core/embedding.py:90: UserWarning: Argument `input_length` is deprecated. Just remove it.\n",
      "  warnings.warn(\n"
     ]
    },
    {
     "data": {
      "text/html": [
       "<pre style=\"white-space:pre;overflow-x:auto;line-height:normal;font-family:Menlo,'DejaVu Sans Mono',consolas,'Courier New',monospace\"><span style=\"font-weight: bold\">Model: \"sequential\"</span>\n",
       "</pre>\n"
      ],
      "text/plain": [
       "\u001b[1mModel: \"sequential\"\u001b[0m\n"
      ]
     },
     "metadata": {},
     "output_type": "display_data"
    },
    {
     "data": {
      "text/html": [
       "<pre style=\"white-space:pre;overflow-x:auto;line-height:normal;font-family:Menlo,'DejaVu Sans Mono',consolas,'Courier New',monospace\">┏━━━━━━━━━━━━━━━━━━━━━━━━━━━━━━━━━┳━━━━━━━━━━━━━━━━━━━━━━━━┳━━━━━━━━━━━━━━━┓\n",
       "┃<span style=\"font-weight: bold\"> Layer (type)                    </span>┃<span style=\"font-weight: bold\"> Output Shape           </span>┃<span style=\"font-weight: bold\">       Param # </span>┃\n",
       "┡━━━━━━━━━━━━━━━━━━━━━━━━━━━━━━━━━╇━━━━━━━━━━━━━━━━━━━━━━━━╇━━━━━━━━━━━━━━━┩\n",
       "│ embedding (<span style=\"color: #0087ff; text-decoration-color: #0087ff\">Embedding</span>)           │ ?                      │   <span style=\"color: #00af00; text-decoration-color: #00af00\">0</span> (unbuilt) │\n",
       "├─────────────────────────────────┼────────────────────────┼───────────────┤\n",
       "│ spatial_dropout1d               │ ?                      │   <span style=\"color: #00af00; text-decoration-color: #00af00\">0</span> (unbuilt) │\n",
       "│ (<span style=\"color: #0087ff; text-decoration-color: #0087ff\">SpatialDropout1D</span>)              │                        │               │\n",
       "├─────────────────────────────────┼────────────────────────┼───────────────┤\n",
       "│ lstm (<span style=\"color: #0087ff; text-decoration-color: #0087ff\">LSTM</span>)                     │ ?                      │   <span style=\"color: #00af00; text-decoration-color: #00af00\">0</span> (unbuilt) │\n",
       "├─────────────────────────────────┼────────────────────────┼───────────────┤\n",
       "│ dense (<span style=\"color: #0087ff; text-decoration-color: #0087ff\">Dense</span>)                   │ ?                      │   <span style=\"color: #00af00; text-decoration-color: #00af00\">0</span> (unbuilt) │\n",
       "└─────────────────────────────────┴────────────────────────┴───────────────┘\n",
       "</pre>\n"
      ],
      "text/plain": [
       "┏━━━━━━━━━━━━━━━━━━━━━━━━━━━━━━━━━┳━━━━━━━━━━━━━━━━━━━━━━━━┳━━━━━━━━━━━━━━━┓\n",
       "┃\u001b[1m \u001b[0m\u001b[1mLayer (type)                   \u001b[0m\u001b[1m \u001b[0m┃\u001b[1m \u001b[0m\u001b[1mOutput Shape          \u001b[0m\u001b[1m \u001b[0m┃\u001b[1m \u001b[0m\u001b[1m      Param #\u001b[0m\u001b[1m \u001b[0m┃\n",
       "┡━━━━━━━━━━━━━━━━━━━━━━━━━━━━━━━━━╇━━━━━━━━━━━━━━━━━━━━━━━━╇━━━━━━━━━━━━━━━┩\n",
       "│ embedding (\u001b[38;5;33mEmbedding\u001b[0m)           │ ?                      │   \u001b[38;5;34m0\u001b[0m (unbuilt) │\n",
       "├─────────────────────────────────┼────────────────────────┼───────────────┤\n",
       "│ spatial_dropout1d               │ ?                      │   \u001b[38;5;34m0\u001b[0m (unbuilt) │\n",
       "│ (\u001b[38;5;33mSpatialDropout1D\u001b[0m)              │                        │               │\n",
       "├─────────────────────────────────┼────────────────────────┼───────────────┤\n",
       "│ lstm (\u001b[38;5;33mLSTM\u001b[0m)                     │ ?                      │   \u001b[38;5;34m0\u001b[0m (unbuilt) │\n",
       "├─────────────────────────────────┼────────────────────────┼───────────────┤\n",
       "│ dense (\u001b[38;5;33mDense\u001b[0m)                   │ ?                      │   \u001b[38;5;34m0\u001b[0m (unbuilt) │\n",
       "└─────────────────────────────────┴────────────────────────┴───────────────┘\n"
      ]
     },
     "metadata": {},
     "output_type": "display_data"
    },
    {
     "data": {
      "text/html": [
       "<pre style=\"white-space:pre;overflow-x:auto;line-height:normal;font-family:Menlo,'DejaVu Sans Mono',consolas,'Courier New',monospace\"><span style=\"font-weight: bold\"> Total params: </span><span style=\"color: #00af00; text-decoration-color: #00af00\">0</span> (0.00 B)\n",
       "</pre>\n"
      ],
      "text/plain": [
       "\u001b[1m Total params: \u001b[0m\u001b[38;5;34m0\u001b[0m (0.00 B)\n"
      ]
     },
     "metadata": {},
     "output_type": "display_data"
    },
    {
     "data": {
      "text/html": [
       "<pre style=\"white-space:pre;overflow-x:auto;line-height:normal;font-family:Menlo,'DejaVu Sans Mono',consolas,'Courier New',monospace\"><span style=\"font-weight: bold\"> Trainable params: </span><span style=\"color: #00af00; text-decoration-color: #00af00\">0</span> (0.00 B)\n",
       "</pre>\n"
      ],
      "text/plain": [
       "\u001b[1m Trainable params: \u001b[0m\u001b[38;5;34m0\u001b[0m (0.00 B)\n"
      ]
     },
     "metadata": {},
     "output_type": "display_data"
    },
    {
     "data": {
      "text/html": [
       "<pre style=\"white-space:pre;overflow-x:auto;line-height:normal;font-family:Menlo,'DejaVu Sans Mono',consolas,'Courier New',monospace\"><span style=\"font-weight: bold\"> Non-trainable params: </span><span style=\"color: #00af00; text-decoration-color: #00af00\">0</span> (0.00 B)\n",
       "</pre>\n"
      ],
      "text/plain": [
       "\u001b[1m Non-trainable params: \u001b[0m\u001b[38;5;34m0\u001b[0m (0.00 B)\n"
      ]
     },
     "metadata": {},
     "output_type": "display_data"
    },
    {
     "name": "stdout",
     "output_type": "stream",
     "text": [
      "Epoch 1/5\n",
      "172/172 - 16s - 95ms/step - accuracy: 0.7095 - loss: 0.5535 - val_accuracy: 0.8144 - val_loss: 0.4361\n",
      "Epoch 2/5\n",
      "172/172 - 11s - 62ms/step - accuracy: 0.8462 - loss: 0.3559 - val_accuracy: 0.7931 - val_loss: 0.4391\n",
      "Epoch 3/5\n",
      "172/172 - 11s - 64ms/step - accuracy: 0.8871 - loss: 0.2760 - val_accuracy: 0.7898 - val_loss: 0.4876\n",
      "Epoch 4/5\n",
      "172/172 - 11s - 62ms/step - accuracy: 0.9128 - loss: 0.2233 - val_accuracy: 0.7767 - val_loss: 0.5767\n",
      "Epoch 5/5\n",
      "172/172 - 11s - 62ms/step - accuracy: 0.9332 - loss: 0.1801 - val_accuracy: 0.7750 - val_loss: 0.6536\n"
     ]
    },
    {
     "data": {
      "text/plain": [
       "<keras.src.callbacks.history.History at 0x7c22e0335630>"
      ]
     },
     "execution_count": 8,
     "metadata": {},
     "output_type": "execute_result"
    }
   ],
   "source": [
    "# Tokenization and Padding\n",
    "tokenizer = Tokenizer(num_words=5000)\n",
    "tokenizer.fit_on_texts(df['text_cleaned'])\n",
    "X_seq = tokenizer.texts_to_sequences(df['text_cleaned'])\n",
    "X_seq_padded = pad_sequences(X_seq, maxlen=50)\n",
    "\n",
    "# Train-test split\n",
    "X_train_seq, X_test_seq, y_train_seq, y_test_seq = train_test_split(X_seq_padded, y, test_size=0.2, random_state=42)\n",
    "\n",
    "# Build LSTM model\n",
    "lstm_model = Sequential([\n",
    "    Embedding(5000, 128, input_length=50),\n",
    "    SpatialDropout1D(0.2),\n",
    "    LSTM(100, dropout=0.2, recurrent_dropout=0.2),\n",
    "    Dense(1, activation='sigmoid')\n",
    "])\n",
    "\n",
    "# Compile the model\n",
    "lstm_model.compile(loss='binary_crossentropy', optimizer='adam', metrics=['accuracy'])\n",
    "lstm_model.summary()\n",
    "\n",
    "# Train the model\n",
    "lstm_model.fit(X_train_seq, y_train_seq, epochs=5, batch_size=32, validation_split=0.1, verbose=2)"
   ]
  },
  {
   "cell_type": "code",
   "execution_count": 9,
   "id": "5caad0d1",
   "metadata": {
    "execution": {
     "iopub.execute_input": "2024-10-29T16:02:14.997770Z",
     "iopub.status.busy": "2024-10-29T16:02:14.997006Z",
     "iopub.status.idle": "2024-10-29T16:02:16.349579Z",
     "shell.execute_reply": "2024-10-29T16:02:16.348579Z"
    },
    "papermill": {
     "duration": 1.364506,
     "end_time": "2024-10-29T16:02:16.351597",
     "exception": false,
     "start_time": "2024-10-29T16:02:14.987091",
     "status": "completed"
    },
    "tags": []
   },
   "outputs": [
    {
     "name": "stdout",
     "output_type": "stream",
     "text": [
      "\u001b[1m48/48\u001b[0m \u001b[32m━━━━━━━━━━━━━━━━━━━━\u001b[0m\u001b[37m\u001b[0m \u001b[1m1s\u001b[0m 22ms/step\n",
      "LSTM Accuracy: 0.7649376231122784\n",
      "              precision    recall  f1-score   support\n",
      "\n",
      "           0       0.79      0.80      0.80       874\n",
      "           1       0.73      0.71      0.72       649\n",
      "\n",
      "    accuracy                           0.76      1523\n",
      "   macro avg       0.76      0.76      0.76      1523\n",
      "weighted avg       0.76      0.76      0.76      1523\n",
      "\n"
     ]
    }
   ],
   "source": [
    "# Evaluate LSTM model\n",
    "y_pred_lstm = (lstm_model.predict(X_test_seq) > 0.5).astype('int32')\n",
    "print(\"LSTM Accuracy:\", accuracy_score(y_test_seq, y_pred_lstm))\n",
    "print(classification_report(y_test_seq, y_pred_lstm))"
   ]
  },
  {
   "cell_type": "markdown",
   "id": "4623cd97",
   "metadata": {
    "papermill": {
     "duration": 0.010366,
     "end_time": "2024-10-29T16:02:16.372782",
     "exception": false,
     "start_time": "2024-10-29T16:02:16.362416",
     "status": "completed"
    },
    "tags": []
   },
   "source": [
    "## 5. CatBoost with Text Features\n",
    "\n",
    "CatBoost can handle text data directly. Here, we will use CatBoost to classify disaster tweets based on raw text features."
   ]
  },
  {
   "cell_type": "code",
   "execution_count": 10,
   "id": "73fdc75a",
   "metadata": {
    "execution": {
     "iopub.execute_input": "2024-10-29T16:02:16.394697Z",
     "iopub.status.busy": "2024-10-29T16:02:16.394397Z",
     "iopub.status.idle": "2024-10-29T16:06:10.930654Z",
     "shell.execute_reply": "2024-10-29T16:06:10.929728Z"
    },
    "papermill": {
     "duration": 234.549464,
     "end_time": "2024-10-29T16:06:10.932552",
     "exception": false,
     "start_time": "2024-10-29T16:02:16.383088",
     "status": "completed"
    },
    "tags": []
   },
   "outputs": [
    {
     "name": "stdout",
     "output_type": "stream",
     "text": [
      "0:\tlearn: 0.6624518\ttest: 0.6583858\tbest: 0.6583858 (0)\ttotal: 166ms\tremaining: 5m 31s\n",
      "100:\tlearn: 0.4568896\ttest: 0.4579677\tbest: 0.4578925 (98)\ttotal: 12s\tremaining: 3m 45s\n",
      "200:\tlearn: 0.4132191\ttest: 0.4535005\tbest: 0.4529887 (170)\ttotal: 23.6s\tremaining: 3m 31s\n",
      "300:\tlearn: 0.3782115\ttest: 0.4539809\tbest: 0.4529062 (254)\ttotal: 35.3s\tremaining: 3m 19s\n",
      "400:\tlearn: 0.3506587\ttest: 0.4569931\tbest: 0.4529062 (254)\ttotal: 47.4s\tremaining: 3m 8s\n",
      "500:\tlearn: 0.3262919\ttest: 0.4593284\tbest: 0.4529062 (254)\ttotal: 59.1s\tremaining: 2m 56s\n",
      "600:\tlearn: 0.3042914\ttest: 0.4613751\tbest: 0.4529062 (254)\ttotal: 1m 10s\tremaining: 2m 45s\n",
      "700:\tlearn: 0.2834957\ttest: 0.4641118\tbest: 0.4529062 (254)\ttotal: 1m 22s\tremaining: 2m 32s\n",
      "800:\tlearn: 0.2667552\ttest: 0.4677696\tbest: 0.4529062 (254)\ttotal: 1m 34s\tremaining: 2m 20s\n",
      "900:\tlearn: 0.2516866\ttest: 0.4726409\tbest: 0.4529062 (254)\ttotal: 1m 45s\tremaining: 2m 9s\n",
      "1000:\tlearn: 0.2380751\ttest: 0.4753917\tbest: 0.4529062 (254)\ttotal: 1m 57s\tremaining: 1m 57s\n",
      "1100:\tlearn: 0.2258797\ttest: 0.4791795\tbest: 0.4529062 (254)\ttotal: 2m 8s\tremaining: 1m 45s\n",
      "1200:\tlearn: 0.2152485\ttest: 0.4811111\tbest: 0.4529062 (254)\ttotal: 2m 20s\tremaining: 1m 33s\n",
      "1300:\tlearn: 0.2050773\ttest: 0.4841303\tbest: 0.4529062 (254)\ttotal: 2m 32s\tremaining: 1m 21s\n",
      "1400:\tlearn: 0.1945271\ttest: 0.4879155\tbest: 0.4529062 (254)\ttotal: 2m 43s\tremaining: 1m 10s\n",
      "1500:\tlearn: 0.1853986\ttest: 0.4914307\tbest: 0.4529062 (254)\ttotal: 2m 55s\tremaining: 58.4s\n",
      "1600:\tlearn: 0.1773989\ttest: 0.4956437\tbest: 0.4529062 (254)\ttotal: 3m 7s\tremaining: 46.7s\n",
      "1700:\tlearn: 0.1698383\ttest: 0.4995807\tbest: 0.4529062 (254)\ttotal: 3m 19s\tremaining: 35s\n",
      "1800:\tlearn: 0.1630120\ttest: 0.5045803\tbest: 0.4529062 (254)\ttotal: 3m 30s\tremaining: 23.3s\n",
      "1900:\tlearn: 0.1557618\ttest: 0.5093048\tbest: 0.4529062 (254)\ttotal: 3m 42s\tremaining: 11.6s\n",
      "1999:\tlearn: 0.1497949\ttest: 0.5123563\tbest: 0.4529062 (254)\ttotal: 3m 54s\tremaining: 0us\n",
      "\n",
      "bestTest = 0.4529062474\n",
      "bestIteration = 254\n",
      "\n",
      "Shrink model to first 255 iterations.\n"
     ]
    },
    {
     "data": {
      "text/plain": [
       "<catboost.core.CatBoostClassifier at 0x7c2225e9f250>"
      ]
     },
     "execution_count": 10,
     "metadata": {},
     "output_type": "execute_result"
    }
   ],
   "source": [
    "# Prepare data for CatBoost\n",
    "X_train_cat, X_test_cat, y_train_cat, y_test_cat = train_test_split(df['text'], df['target'], test_size=0.2, random_state=42)\n",
    "\n",
    "# Convert Series to DataFrame\n",
    "X_train_cat = X_train_cat.to_frame()\n",
    "X_test_cat = X_test_cat.to_frame()\n",
    "\n",
    "# Create Pool for CatBoost\n",
    "train_pool = Pool(data=X_train_cat, label=y_train_cat, text_features=[0])\n",
    "test_pool = Pool(data=X_test_cat, label=y_test_cat, text_features=[0])\n",
    "\n",
    "# Initialize and train CatBoost model\n",
    "catboost_model = CatBoostClassifier(iterations=2000, learning_rate=0.1, depth=6, loss_function='Logloss', verbose=100)\n",
    "catboost_model.fit(train_pool, eval_set=test_pool, use_best_model=True)"
   ]
  },
  {
   "cell_type": "code",
   "execution_count": 11,
   "id": "b2db7e91",
   "metadata": {
    "execution": {
     "iopub.execute_input": "2024-10-29T16:06:10.958754Z",
     "iopub.status.busy": "2024-10-29T16:06:10.958425Z",
     "iopub.status.idle": "2024-10-29T16:06:10.982189Z",
     "shell.execute_reply": "2024-10-29T16:06:10.981234Z"
    },
    "papermill": {
     "duration": 0.039115,
     "end_time": "2024-10-29T16:06:10.984192",
     "exception": false,
     "start_time": "2024-10-29T16:06:10.945077",
     "status": "completed"
    },
    "tags": []
   },
   "outputs": [
    {
     "name": "stdout",
     "output_type": "stream",
     "text": [
      "CatBoost Accuracy: 0.7944845699277742\n",
      "              precision    recall  f1-score   support\n",
      "\n",
      "           0       0.78      0.89      0.83       874\n",
      "           1       0.82      0.66      0.73       649\n",
      "\n",
      "    accuracy                           0.79      1523\n",
      "   macro avg       0.80      0.78      0.78      1523\n",
      "weighted avg       0.80      0.79      0.79      1523\n",
      "\n"
     ]
    }
   ],
   "source": [
    "# Evaluate CatBoost model\n",
    "y_pred_catboost = catboost_model.predict(test_pool)\n",
    "print(\"CatBoost Accuracy:\", accuracy_score(y_test_cat, y_pred_catboost))\n",
    "print(classification_report(y_test_cat, y_pred_catboost))"
   ]
  },
  {
   "cell_type": "markdown",
   "id": "0448f1b0",
   "metadata": {
    "papermill": {
     "duration": 0.012011,
     "end_time": "2024-10-29T16:06:11.008363",
     "exception": false,
     "start_time": "2024-10-29T16:06:10.996352",
     "status": "completed"
    },
    "tags": []
   },
   "source": [
    "## 🎓 Conclusion\n",
    "\n",
    "In this notebook, we explored three models:\n",
    "- **Naive Bayes** with TF-IDF features\n",
    "- **LSTM** for sequence classification\n",
    "- **CatBoost** with native text handling capabilities\n",
    "\n",
    "Each approach has its strengths. **Naive Bayes** is fast and performs well with TF-IDF vectors, **LSTM** captures sequential patterns in text data, and **CatBoost** provides a straightforward approach by directly using raw text data."
   ]
  }
 ],
 "metadata": {
  "kaggle": {
   "accelerator": "gpu",
   "dataSources": [
    {
     "databundleVersionId": 869809,
     "sourceId": 17777,
     "sourceType": "competition"
    }
   ],
   "isGpuEnabled": true,
   "isInternetEnabled": true,
   "language": "python",
   "sourceType": "notebook"
  },
  "kernelspec": {
   "display_name": "Python 3",
   "language": "python",
   "name": "python3"
  },
  "language_info": {
   "codemirror_mode": {
    "name": "ipython",
    "version": 3
   },
   "file_extension": ".py",
   "mimetype": "text/x-python",
   "name": "python",
   "nbconvert_exporter": "python",
   "pygments_lexer": "ipython3",
   "version": "3.10.14"
  },
  "papermill": {
   "default_parameters": {},
   "duration": 336.816339,
   "end_time": "2024-10-29T16:06:13.726938",
   "environment_variables": {},
   "exception": null,
   "input_path": "__notebook__.ipynb",
   "output_path": "__notebook__.ipynb",
   "parameters": {},
   "start_time": "2024-10-29T16:00:36.910599",
   "version": "2.6.0"
  }
 },
 "nbformat": 4,
 "nbformat_minor": 5
}
