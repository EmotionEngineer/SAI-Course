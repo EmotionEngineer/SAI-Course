{
 "cells": [
  {
   "cell_type": "markdown",
   "id": "9041bded",
   "metadata": {
    "papermill": {
     "duration": 0.004176,
     "end_time": "2024-10-27T14:33:03.912235",
     "exception": false,
     "start_time": "2024-10-27T14:33:03.908059",
     "status": "completed"
    },
    "tags": []
   },
   "source": [
    "# Data Splitting and Processing\n",
    "This notebook provides a comprehensive guide to data preprocessing, covering:\n",
    "- Loading data\n",
    "- Handling missing values\n",
    "- Encoding categorical variables\n",
    "- Scaling features\n",
    "- Visualizing data\n",
    "- Splitting into train and test sets"
   ]
  },
  {
   "cell_type": "code",
   "execution_count": 1,
   "id": "c56ee23a",
   "metadata": {
    "execution": {
     "iopub.execute_input": "2024-10-27T14:33:03.921790Z",
     "iopub.status.busy": "2024-10-27T14:33:03.921366Z",
     "iopub.status.idle": "2024-10-27T14:33:06.869657Z",
     "shell.execute_reply": "2024-10-27T14:33:06.868036Z"
    },
    "papermill": {
     "duration": 2.956257,
     "end_time": "2024-10-27T14:33:06.872579",
     "exception": false,
     "start_time": "2024-10-27T14:33:03.916322",
     "status": "completed"
    },
    "tags": []
   },
   "outputs": [],
   "source": [
    "import pandas as pd\n",
    "import numpy as np\n",
    "from sklearn.preprocessing import StandardScaler, MinMaxScaler\n",
    "from sklearn.model_selection import train_test_split\n",
    "import seaborn as sns\n",
    "import matplotlib.pyplot as plt\n",
    "\n",
    "# Display options for better readability\n",
    "pd.set_option('display.float_format', '{:.2f}'.format)"
   ]
  },
  {
   "cell_type": "markdown",
   "id": "2defb95b",
   "metadata": {
    "papermill": {
     "duration": 0.003542,
     "end_time": "2024-10-27T14:33:06.880156",
     "exception": false,
     "start_time": "2024-10-27T14:33:06.876614",
     "status": "completed"
    },
    "tags": []
   },
   "source": [
    "## 1. Loading Data\n",
    "Let's start by creating a sample dataset with missing values and categorical data. This data will be used for the subsequent steps."
   ]
  },
  {
   "cell_type": "code",
   "execution_count": 2,
   "id": "373fe7de",
   "metadata": {
    "execution": {
     "iopub.execute_input": "2024-10-27T14:33:06.889602Z",
     "iopub.status.busy": "2024-10-27T14:33:06.888964Z",
     "iopub.status.idle": "2024-10-27T14:33:06.916604Z",
     "shell.execute_reply": "2024-10-27T14:33:06.915250Z"
    },
    "papermill": {
     "duration": 0.035205,
     "end_time": "2024-10-27T14:33:06.919124",
     "exception": false,
     "start_time": "2024-10-27T14:33:06.883919",
     "status": "completed"
    },
    "tags": []
   },
   "outputs": [
    {
     "name": "stdout",
     "output_type": "stream",
     "text": [
      "Initial Dataset:\n"
     ]
    },
    {
     "data": {
      "text/html": [
       "<div>\n",
       "<style scoped>\n",
       "    .dataframe tbody tr th:only-of-type {\n",
       "        vertical-align: middle;\n",
       "    }\n",
       "\n",
       "    .dataframe tbody tr th {\n",
       "        vertical-align: top;\n",
       "    }\n",
       "\n",
       "    .dataframe thead th {\n",
       "        text-align: right;\n",
       "    }\n",
       "</style>\n",
       "<table border=\"1\" class=\"dataframe\">\n",
       "  <thead>\n",
       "    <tr style=\"text-align: right;\">\n",
       "      <th></th>\n",
       "      <th>Age</th>\n",
       "      <th>Height</th>\n",
       "      <th>Weight</th>\n",
       "      <th>City</th>\n",
       "      <th>Score</th>\n",
       "    </tr>\n",
       "  </thead>\n",
       "  <tbody>\n",
       "    <tr>\n",
       "      <th>0</th>\n",
       "      <td>25.00</td>\n",
       "      <td>1.70</td>\n",
       "      <td>65.00</td>\n",
       "      <td>NY</td>\n",
       "      <td>NaN</td>\n",
       "    </tr>\n",
       "    <tr>\n",
       "      <th>1</th>\n",
       "      <td>NaN</td>\n",
       "      <td>1.80</td>\n",
       "      <td>80.00</td>\n",
       "      <td>LA</td>\n",
       "      <td>65.00</td>\n",
       "    </tr>\n",
       "    <tr>\n",
       "      <th>2</th>\n",
       "      <td>30.00</td>\n",
       "      <td>NaN</td>\n",
       "      <td>70.00</td>\n",
       "      <td>NY</td>\n",
       "      <td>70.00</td>\n",
       "    </tr>\n",
       "    <tr>\n",
       "      <th>3</th>\n",
       "      <td>35.00</td>\n",
       "      <td>1.65</td>\n",
       "      <td>NaN</td>\n",
       "      <td>SF</td>\n",
       "      <td>80.00</td>\n",
       "    </tr>\n",
       "    <tr>\n",
       "      <th>4</th>\n",
       "      <td>45.00</td>\n",
       "      <td>1.75</td>\n",
       "      <td>85.00</td>\n",
       "      <td>LA</td>\n",
       "      <td>85.00</td>\n",
       "    </tr>\n",
       "  </tbody>\n",
       "</table>\n",
       "</div>"
      ],
      "text/plain": [
       "    Age  Height  Weight City  Score\n",
       "0 25.00    1.70   65.00   NY    NaN\n",
       "1   NaN    1.80   80.00   LA  65.00\n",
       "2 30.00     NaN   70.00   NY  70.00\n",
       "3 35.00    1.65     NaN   SF  80.00\n",
       "4 45.00    1.75   85.00   LA  85.00"
      ]
     },
     "execution_count": 2,
     "metadata": {},
     "output_type": "execute_result"
    }
   ],
   "source": [
    "data = pd.DataFrame({\n",
    "    'Age': [25, None, 30, 35, 45],\n",
    "    'Height': [1.7, 1.8, None, 1.65, 1.75],\n",
    "    'Weight': [65, 80, 70, None, 85],\n",
    "    'City': ['NY', 'LA', 'NY', 'SF', 'LA'],\n",
    "    'Score': [None, 65, 70, 80, 85]\n",
    "})\n",
    "\n",
    "print('Initial Dataset:')\n",
    "data"
   ]
  },
  {
   "cell_type": "markdown",
   "id": "62145a30",
   "metadata": {
    "papermill": {
     "duration": 0.003706,
     "end_time": "2024-10-27T14:33:06.927289",
     "exception": false,
     "start_time": "2024-10-27T14:33:06.923583",
     "status": "completed"
    },
    "tags": []
   },
   "source": [
    "## 2. Handling Missing Values\n",
    "We'll handle missing values by:\n",
    "- Filling `Age` with the median\n",
    "- Filling `Height` and `Weight` with the mean\n",
    "- Filling `Score` with a constant value of 0\n"
   ]
  },
  {
   "cell_type": "code",
   "execution_count": 3,
   "id": "caf50968",
   "metadata": {
    "execution": {
     "iopub.execute_input": "2024-10-27T14:33:06.937056Z",
     "iopub.status.busy": "2024-10-27T14:33:06.936630Z",
     "iopub.status.idle": "2024-10-27T14:33:06.959567Z",
     "shell.execute_reply": "2024-10-27T14:33:06.958499Z"
    },
    "papermill": {
     "duration": 0.030758,
     "end_time": "2024-10-27T14:33:06.962117",
     "exception": false,
     "start_time": "2024-10-27T14:33:06.931359",
     "status": "completed"
    },
    "tags": []
   },
   "outputs": [
    {
     "name": "stdout",
     "output_type": "stream",
     "text": [
      "Data After Handling Missing Values:\n"
     ]
    },
    {
     "data": {
      "text/html": [
       "<div>\n",
       "<style scoped>\n",
       "    .dataframe tbody tr th:only-of-type {\n",
       "        vertical-align: middle;\n",
       "    }\n",
       "\n",
       "    .dataframe tbody tr th {\n",
       "        vertical-align: top;\n",
       "    }\n",
       "\n",
       "    .dataframe thead th {\n",
       "        text-align: right;\n",
       "    }\n",
       "</style>\n",
       "<table border=\"1\" class=\"dataframe\">\n",
       "  <thead>\n",
       "    <tr style=\"text-align: right;\">\n",
       "      <th></th>\n",
       "      <th>Age</th>\n",
       "      <th>Height</th>\n",
       "      <th>Weight</th>\n",
       "      <th>City</th>\n",
       "      <th>Score</th>\n",
       "    </tr>\n",
       "  </thead>\n",
       "  <tbody>\n",
       "    <tr>\n",
       "      <th>0</th>\n",
       "      <td>25.00</td>\n",
       "      <td>1.70</td>\n",
       "      <td>65.00</td>\n",
       "      <td>NY</td>\n",
       "      <td>0.00</td>\n",
       "    </tr>\n",
       "    <tr>\n",
       "      <th>1</th>\n",
       "      <td>32.50</td>\n",
       "      <td>1.80</td>\n",
       "      <td>80.00</td>\n",
       "      <td>LA</td>\n",
       "      <td>65.00</td>\n",
       "    </tr>\n",
       "    <tr>\n",
       "      <th>2</th>\n",
       "      <td>30.00</td>\n",
       "      <td>1.73</td>\n",
       "      <td>70.00</td>\n",
       "      <td>NY</td>\n",
       "      <td>70.00</td>\n",
       "    </tr>\n",
       "    <tr>\n",
       "      <th>3</th>\n",
       "      <td>35.00</td>\n",
       "      <td>1.65</td>\n",
       "      <td>75.00</td>\n",
       "      <td>SF</td>\n",
       "      <td>80.00</td>\n",
       "    </tr>\n",
       "    <tr>\n",
       "      <th>4</th>\n",
       "      <td>45.00</td>\n",
       "      <td>1.75</td>\n",
       "      <td>85.00</td>\n",
       "      <td>LA</td>\n",
       "      <td>85.00</td>\n",
       "    </tr>\n",
       "  </tbody>\n",
       "</table>\n",
       "</div>"
      ],
      "text/plain": [
       "    Age  Height  Weight City  Score\n",
       "0 25.00    1.70   65.00   NY   0.00\n",
       "1 32.50    1.80   80.00   LA  65.00\n",
       "2 30.00    1.73   70.00   NY  70.00\n",
       "3 35.00    1.65   75.00   SF  80.00\n",
       "4 45.00    1.75   85.00   LA  85.00"
      ]
     },
     "execution_count": 3,
     "metadata": {},
     "output_type": "execute_result"
    }
   ],
   "source": [
    "# Handle missing values\n",
    "data['Age'] = data['Age'].fillna(data['Age'].median())       # Median for 'Age'\n",
    "data['Height'] = data['Height'].fillna(data['Height'].mean()) # Mean for 'Height'\n",
    "data['Weight'] = data['Weight'].fillna(data['Weight'].mean()) # Mean for 'Weight'\n",
    "data['Score'] = data['Score'].fillna(0)                          # Constant (0) for 'Score'\n",
    "\n",
    "print('Data After Handling Missing Values:')\n",
    "data"
   ]
  },
  {
   "cell_type": "markdown",
   "id": "fc61f3d4",
   "metadata": {
    "papermill": {
     "duration": 0.004723,
     "end_time": "2024-10-27T14:33:06.971561",
     "exception": false,
     "start_time": "2024-10-27T14:33:06.966838",
     "status": "completed"
    },
    "tags": []
   },
   "source": [
    "## 3. Encoding Categorical Variables\n",
    "For categorical data, we'll use one-hot encoding to convert the `City` column into numerical format."
   ]
  },
  {
   "cell_type": "code",
   "execution_count": 4,
   "id": "b5295ad6",
   "metadata": {
    "execution": {
     "iopub.execute_input": "2024-10-27T14:33:06.983722Z",
     "iopub.status.busy": "2024-10-27T14:33:06.982683Z",
     "iopub.status.idle": "2024-10-27T14:33:07.016708Z",
     "shell.execute_reply": "2024-10-27T14:33:07.015564Z"
    },
    "papermill": {
     "duration": 0.042184,
     "end_time": "2024-10-27T14:33:07.019004",
     "exception": false,
     "start_time": "2024-10-27T14:33:06.976820",
     "status": "completed"
    },
    "tags": []
   },
   "outputs": [
    {
     "name": "stdout",
     "output_type": "stream",
     "text": [
      "Data After One-Hot Encoding:\n"
     ]
    },
    {
     "data": {
      "text/html": [
       "<div>\n",
       "<style scoped>\n",
       "    .dataframe tbody tr th:only-of-type {\n",
       "        vertical-align: middle;\n",
       "    }\n",
       "\n",
       "    .dataframe tbody tr th {\n",
       "        vertical-align: top;\n",
       "    }\n",
       "\n",
       "    .dataframe thead th {\n",
       "        text-align: right;\n",
       "    }\n",
       "</style>\n",
       "<table border=\"1\" class=\"dataframe\">\n",
       "  <thead>\n",
       "    <tr style=\"text-align: right;\">\n",
       "      <th></th>\n",
       "      <th>Age</th>\n",
       "      <th>Height</th>\n",
       "      <th>Weight</th>\n",
       "      <th>Score</th>\n",
       "      <th>City_NY</th>\n",
       "      <th>City_SF</th>\n",
       "    </tr>\n",
       "  </thead>\n",
       "  <tbody>\n",
       "    <tr>\n",
       "      <th>0</th>\n",
       "      <td>25.00</td>\n",
       "      <td>1.70</td>\n",
       "      <td>65.00</td>\n",
       "      <td>0.00</td>\n",
       "      <td>True</td>\n",
       "      <td>False</td>\n",
       "    </tr>\n",
       "    <tr>\n",
       "      <th>1</th>\n",
       "      <td>32.50</td>\n",
       "      <td>1.80</td>\n",
       "      <td>80.00</td>\n",
       "      <td>65.00</td>\n",
       "      <td>False</td>\n",
       "      <td>False</td>\n",
       "    </tr>\n",
       "    <tr>\n",
       "      <th>2</th>\n",
       "      <td>30.00</td>\n",
       "      <td>1.73</td>\n",
       "      <td>70.00</td>\n",
       "      <td>70.00</td>\n",
       "      <td>True</td>\n",
       "      <td>False</td>\n",
       "    </tr>\n",
       "    <tr>\n",
       "      <th>3</th>\n",
       "      <td>35.00</td>\n",
       "      <td>1.65</td>\n",
       "      <td>75.00</td>\n",
       "      <td>80.00</td>\n",
       "      <td>False</td>\n",
       "      <td>True</td>\n",
       "    </tr>\n",
       "    <tr>\n",
       "      <th>4</th>\n",
       "      <td>45.00</td>\n",
       "      <td>1.75</td>\n",
       "      <td>85.00</td>\n",
       "      <td>85.00</td>\n",
       "      <td>False</td>\n",
       "      <td>False</td>\n",
       "    </tr>\n",
       "  </tbody>\n",
       "</table>\n",
       "</div>"
      ],
      "text/plain": [
       "    Age  Height  Weight  Score  City_NY  City_SF\n",
       "0 25.00    1.70   65.00   0.00     True    False\n",
       "1 32.50    1.80   80.00  65.00    False    False\n",
       "2 30.00    1.73   70.00  70.00     True    False\n",
       "3 35.00    1.65   75.00  80.00    False     True\n",
       "4 45.00    1.75   85.00  85.00    False    False"
      ]
     },
     "execution_count": 4,
     "metadata": {},
     "output_type": "execute_result"
    }
   ],
   "source": [
    "data = pd.get_dummies(data, columns=['City'], drop_first=True)\n",
    "print('Data After One-Hot Encoding:')\n",
    "data"
   ]
  },
  {
   "cell_type": "markdown",
   "id": "258b60fe",
   "metadata": {
    "papermill": {
     "duration": 0.004388,
     "end_time": "2024-10-27T14:33:07.028275",
     "exception": false,
     "start_time": "2024-10-27T14:33:07.023887",
     "status": "completed"
    },
    "tags": []
   },
   "source": [
    "## 4. Scaling the Data\n",
    "We'll scale the numerical columns using **Standard Scaling** to make features have a mean of 0 and standard deviation of 1."
   ]
  },
  {
   "cell_type": "code",
   "execution_count": 5,
   "id": "01e2b077",
   "metadata": {
    "execution": {
     "iopub.execute_input": "2024-10-27T14:33:07.039736Z",
     "iopub.status.busy": "2024-10-27T14:33:07.038701Z",
     "iopub.status.idle": "2024-10-27T14:33:07.061018Z",
     "shell.execute_reply": "2024-10-27T14:33:07.059849Z"
    },
    "papermill": {
     "duration": 0.030934,
     "end_time": "2024-10-27T14:33:07.063783",
     "exception": false,
     "start_time": "2024-10-27T14:33:07.032849",
     "status": "completed"
    },
    "tags": []
   },
   "outputs": [
    {
     "name": "stdout",
     "output_type": "stream",
     "text": [
      "Data After Standard Scaling:\n"
     ]
    },
    {
     "data": {
      "text/html": [
       "<div>\n",
       "<style scoped>\n",
       "    .dataframe tbody tr th:only-of-type {\n",
       "        vertical-align: middle;\n",
       "    }\n",
       "\n",
       "    .dataframe tbody tr th {\n",
       "        vertical-align: top;\n",
       "    }\n",
       "\n",
       "    .dataframe thead th {\n",
       "        text-align: right;\n",
       "    }\n",
       "</style>\n",
       "<table border=\"1\" class=\"dataframe\">\n",
       "  <thead>\n",
       "    <tr style=\"text-align: right;\">\n",
       "      <th></th>\n",
       "      <th>Age</th>\n",
       "      <th>Height</th>\n",
       "      <th>Weight</th>\n",
       "      <th>Score</th>\n",
       "      <th>City_NY</th>\n",
       "      <th>City_SF</th>\n",
       "    </tr>\n",
       "  </thead>\n",
       "  <tbody>\n",
       "    <tr>\n",
       "      <th>0</th>\n",
       "      <td>-1.28</td>\n",
       "      <td>-0.50</td>\n",
       "      <td>-1.41</td>\n",
       "      <td>-1.95</td>\n",
       "      <td>True</td>\n",
       "      <td>False</td>\n",
       "    </tr>\n",
       "    <tr>\n",
       "      <th>1</th>\n",
       "      <td>-0.15</td>\n",
       "      <td>1.50</td>\n",
       "      <td>0.71</td>\n",
       "      <td>0.16</td>\n",
       "      <td>False</td>\n",
       "      <td>False</td>\n",
       "    </tr>\n",
       "    <tr>\n",
       "      <th>2</th>\n",
       "      <td>-0.53</td>\n",
       "      <td>0.00</td>\n",
       "      <td>-0.71</td>\n",
       "      <td>0.32</td>\n",
       "      <td>True</td>\n",
       "      <td>False</td>\n",
       "    </tr>\n",
       "    <tr>\n",
       "      <th>3</th>\n",
       "      <td>0.23</td>\n",
       "      <td>-1.50</td>\n",
       "      <td>0.00</td>\n",
       "      <td>0.65</td>\n",
       "      <td>False</td>\n",
       "      <td>True</td>\n",
       "    </tr>\n",
       "    <tr>\n",
       "      <th>4</th>\n",
       "      <td>1.73</td>\n",
       "      <td>0.50</td>\n",
       "      <td>1.41</td>\n",
       "      <td>0.81</td>\n",
       "      <td>False</td>\n",
       "      <td>False</td>\n",
       "    </tr>\n",
       "  </tbody>\n",
       "</table>\n",
       "</div>"
      ],
      "text/plain": [
       "    Age  Height  Weight  Score  City_NY  City_SF\n",
       "0 -1.28   -0.50   -1.41  -1.95     True    False\n",
       "1 -0.15    1.50    0.71   0.16    False    False\n",
       "2 -0.53    0.00   -0.71   0.32     True    False\n",
       "3  0.23   -1.50    0.00   0.65    False     True\n",
       "4  1.73    0.50    1.41   0.81    False    False"
      ]
     },
     "execution_count": 5,
     "metadata": {},
     "output_type": "execute_result"
    }
   ],
   "source": [
    "scaler = StandardScaler()\n",
    "data[['Age', 'Height', 'Weight', 'Score']] = scaler.fit_transform(data[['Age', 'Height', 'Weight', 'Score']])\n",
    "\n",
    "print('Data After Standard Scaling:')\n",
    "data"
   ]
  },
  {
   "cell_type": "markdown",
   "id": "f4508301",
   "metadata": {
    "papermill": {
     "duration": 0.004601,
     "end_time": "2024-10-27T14:33:07.074554",
     "exception": false,
     "start_time": "2024-10-27T14:33:07.069953",
     "status": "completed"
    },
    "tags": []
   },
   "source": [
    "## 5. Visualizing the Data\n",
    "Visualizations help understand distributions and correlations among variables. Here, we'll use histograms and a heatmap to explore data distribution and correlations."
   ]
  },
  {
   "cell_type": "code",
   "execution_count": 6,
   "id": "c7c21d45",
   "metadata": {
    "execution": {
     "iopub.execute_input": "2024-10-27T14:33:07.088325Z",
     "iopub.status.busy": "2024-10-27T14:33:07.086998Z",
     "iopub.status.idle": "2024-10-27T14:33:08.118247Z",
     "shell.execute_reply": "2024-10-27T14:33:08.116994Z"
    },
    "papermill": {
     "duration": 1.041078,
     "end_time": "2024-10-27T14:33:08.120880",
     "exception": false,
     "start_time": "2024-10-27T14:33:07.079802",
     "status": "completed"
    },
    "tags": []
   },
   "outputs": [
    {
     "name": "stderr",
     "output_type": "stream",
     "text": [
      "/opt/conda/lib/python3.10/site-packages/seaborn/_oldcore.py:1119: FutureWarning: use_inf_as_na option is deprecated and will be removed in a future version. Convert inf values to NaN before operating instead.\n",
      "  with pd.option_context('mode.use_inf_as_na', True):\n",
      "/opt/conda/lib/python3.10/site-packages/seaborn/_oldcore.py:1075: FutureWarning: When grouping with a length-1 list-like, you will need to pass a length-1 tuple to get_group in a future version of pandas. Pass `(name,)` instead of `name` to silence this warning.\n",
      "  data_subset = grouped_data.get_group(pd_key)\n",
      "/opt/conda/lib/python3.10/site-packages/seaborn/_oldcore.py:1075: FutureWarning: When grouping with a length-1 list-like, you will need to pass a length-1 tuple to get_group in a future version of pandas. Pass `(name,)` instead of `name` to silence this warning.\n",
      "  data_subset = grouped_data.get_group(pd_key)\n",
      "/opt/conda/lib/python3.10/site-packages/seaborn/_oldcore.py:1075: FutureWarning: When grouping with a length-1 list-like, you will need to pass a length-1 tuple to get_group in a future version of pandas. Pass `(name,)` instead of `name` to silence this warning.\n",
      "  data_subset = grouped_data.get_group(pd_key)\n",
      "/opt/conda/lib/python3.10/site-packages/seaborn/_oldcore.py:1075: FutureWarning: When grouping with a length-1 list-like, you will need to pass a length-1 tuple to get_group in a future version of pandas. Pass `(name,)` instead of `name` to silence this warning.\n",
      "  data_subset = grouped_data.get_group(pd_key)\n",
      "/opt/conda/lib/python3.10/site-packages/seaborn/_oldcore.py:1075: FutureWarning: When grouping with a length-1 list-like, you will need to pass a length-1 tuple to get_group in a future version of pandas. Pass `(name,)` instead of `name` to silence this warning.\n",
      "  data_subset = grouped_data.get_group(pd_key)\n",
      "/opt/conda/lib/python3.10/site-packages/seaborn/_oldcore.py:1075: FutureWarning: When grouping with a length-1 list-like, you will need to pass a length-1 tuple to get_group in a future version of pandas. Pass `(name,)` instead of `name` to silence this warning.\n",
      "  data_subset = grouped_data.get_group(pd_key)\n",
      "/opt/conda/lib/python3.10/site-packages/seaborn/_oldcore.py:1075: FutureWarning: When grouping with a length-1 list-like, you will need to pass a length-1 tuple to get_group in a future version of pandas. Pass `(name,)` instead of `name` to silence this warning.\n",
      "  data_subset = grouped_data.get_group(pd_key)\n",
      "/opt/conda/lib/python3.10/site-packages/seaborn/_oldcore.py:1075: FutureWarning: When grouping with a length-1 list-like, you will need to pass a length-1 tuple to get_group in a future version of pandas. Pass `(name,)` instead of `name` to silence this warning.\n",
      "  data_subset = grouped_data.get_group(pd_key)\n"
     ]
    },
    {
     "data": {
      "image/png": "[encoded data removed]",
      "text/plain": [
       "<Figure size 1000x600 with 1 Axes>"
      ]
     },
     "metadata": {},
     "output_type": "display_data"
    },
    {
     "data": {
      "image/png": "[encoded data removed]",
      "text/plain": [
       "<Figure size 800x600 with 2 Axes>"
      ]
     },
     "metadata": {},
     "output_type": "display_data"
    }
   ],
   "source": [
    "plt.figure(figsize=(10, 6))\n",
    "sns.histplot(data, kde=True)\n",
    "plt.title('Distribution of Numerical Variables')\n",
    "plt.show()\n",
    "\n",
    "# Correlation Heatmap\n",
    "plt.figure(figsize=(8, 6))\n",
    "sns.heatmap(data.corr(), annot=True, cmap='coolwarm')\n",
    "plt.title('Correlation Matrix')\n",
    "plt.show()"
   ]
  },
  {
   "cell_type": "markdown",
   "id": "a5f40a72",
   "metadata": {
    "papermill": {
     "duration": 0.008073,
     "end_time": "2024-10-27T14:33:08.136479",
     "exception": false,
     "start_time": "2024-10-27T14:33:08.128406",
     "status": "completed"
    },
    "tags": []
   },
   "source": [
    "## 6. Splitting Data into Training and Testing Sets\n",
    "Finally, we split the data into training and testing sets, with 80% for training and 20% for testing."
   ]
  },
  {
   "cell_type": "code",
   "execution_count": 7,
   "id": "925c3e33",
   "metadata": {
    "execution": {
     "iopub.execute_input": "2024-10-27T14:33:08.151906Z",
     "iopub.status.busy": "2024-10-27T14:33:08.151435Z",
     "iopub.status.idle": "2024-10-27T14:33:08.167949Z",
     "shell.execute_reply": "2024-10-27T14:33:08.166470Z"
    },
    "papermill": {
     "duration": 0.027183,
     "end_time": "2024-10-27T14:33:08.170534",
     "exception": false,
     "start_time": "2024-10-27T14:33:08.143351",
     "status": "completed"
    },
    "tags": []
   },
   "outputs": [
    {
     "name": "stdout",
     "output_type": "stream",
     "text": [
      "Training Data:\n",
      "    Age  Height  Weight  Score  City_NY  City_SF\n",
      "4  1.73    0.50    1.41   0.81    False    False\n",
      "2 -0.53    0.00   -0.71   0.32     True    False\n",
      "0 -1.28   -0.50   -1.41  -1.95     True    False\n",
      "3  0.23   -1.50    0.00   0.65    False     True\n",
      "Testing Data:\n",
      "    Age  Height  Weight  Score  City_NY  City_SF\n",
      "1 -0.15    1.50    0.71   0.16    False    False\n"
     ]
    }
   ],
   "source": [
    "train_data, test_data = train_test_split(data, test_size=0.2, random_state=42)\n",
    "\n",
    "print('Training Data:')\n",
    "print(train_data)\n",
    "\n",
    "print('Testing Data:')\n",
    "print(test_data)"
   ]
  }
 ],
 "metadata": {
  "kaggle": {
   "accelerator": "none",
   "dataSources": [],
   "dockerImageVersionId": 30786,
   "isGpuEnabled": false,
   "isInternetEnabled": true,
   "language": "python",
   "sourceType": "notebook"
  },
  "kernelspec": {
   "display_name": "Python 3",
   "language": "python",
   "name": "python3"
  },
  "language_info": {
   "codemirror_mode": {
    "name": "ipython",
    "version": 3
   },
   "file_extension": ".py",
   "mimetype": "text/x-python",
   "name": "python",
   "nbconvert_exporter": "python",
   "pygments_lexer": "ipython3",
   "version": "3.10.14"
  },
  "papermill": {
   "default_parameters": {},
   "duration": 7.886445,
   "end_time": "2024-10-27T14:33:08.901513",
   "environment_variables": {},
   "exception": null,
   "input_path": "__notebook__.ipynb",
   "output_path": "__notebook__.ipynb",
   "parameters": {},
   "start_time": "2024-10-27T14:33:01.015068",
   "version": "2.6.0"
  }
 },
 "nbformat": 4,
 "nbformat_minor": 5
}
