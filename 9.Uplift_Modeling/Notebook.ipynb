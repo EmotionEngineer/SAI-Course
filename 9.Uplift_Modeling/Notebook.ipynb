{
 "cells": [
  {
   "cell_type": "markdown",
   "id": "5e1748f6",
   "metadata": {
    "papermill": {
     "duration": 0.007773,
     "end_time": "2024-11-07T08:50:30.847638",
     "exception": false,
     "start_time": "2024-11-07T08:50:30.839865",
     "status": "completed"
    },
    "tags": []
   },
   "source": [
    "# **Uplift Modeling: One Model and Two Model Approaches**"
   ]
  },
  {
   "cell_type": "markdown",
   "id": "fd560563",
   "metadata": {
    "papermill": {
     "duration": 0.008226,
     "end_time": "2024-11-07T08:50:30.863080",
     "exception": false,
     "start_time": "2024-11-07T08:50:30.854854",
     "status": "completed"
    },
    "tags": []
   },
   "source": [
    "---\n",
    "\n",
    "\n",
    "\n",
    "\n",
    "\n",
    "\n",
    "\n",
    "## **Introduction**\n",
    "\n",
    "\n",
    "\n",
    "\n",
    "\n",
    "\n",
    "\n",
    "Uplift modeling is a technique that allows us to identify the incremental effect of a treatment (e.g., a marketing campaign) on a target variable. This notebook demonstrates two popular approaches for uplift modeling:\n",
    "\n",
    "\n",
    "\n",
    "\n",
    "\n",
    "\n",
    "\n",
    "- **One Model Approach**: Uses a single model with a transformed target to capture treatment effects.\n",
    "\n",
    "\n",
    "\n",
    "- **Two Model Approach**: Employs separate models for treatment and control groups, estimating probabilities separately for both groups.\n",
    "\n",
    "\n",
    "\n",
    "\n",
    "\n",
    "\n",
    "\n",
    "In this notebook, we will use the **CatBoostClassifier** from the CatBoost library and **TwoModels** from the `scikit-uplift` library to implement these approaches. Let’s get started!\n",
    "\n",
    "\n",
    "\n",
    "\n",
    "\n",
    "\n",
    "\n",
    "---\n"
   ]
  },
  {
   "cell_type": "markdown",
   "id": "2e3a071d",
   "metadata": {
    "papermill": {
     "duration": 0.006694,
     "end_time": "2024-11-07T08:50:30.876597",
     "exception": false,
     "start_time": "2024-11-07T08:50:30.869903",
     "status": "completed"
    },
    "tags": []
   },
   "source": [
    "## **1. Requirements**"
   ]
  },
  {
   "cell_type": "code",
   "execution_count": 1,
   "id": "16432e12",
   "metadata": {
    "execution": {
     "iopub.execute_input": "2024-11-07T08:50:30.891646Z",
     "iopub.status.busy": "2024-11-07T08:50:30.891300Z",
     "iopub.status.idle": "2024-11-07T08:50:43.607395Z",
     "shell.execute_reply": "2024-11-07T08:50:43.606270Z"
    },
    "papermill": {
     "duration": 12.726442,
     "end_time": "2024-11-07T08:50:43.609972",
     "exception": false,
     "start_time": "2024-11-07T08:50:30.883530",
     "status": "completed"
    },
    "tags": []
   },
   "outputs": [
    {
     "name": "stdout",
     "output_type": "stream",
     "text": [
      "Requirement already satisfied: catboost in /opt/conda/lib/python3.10/site-packages (1.2.7)\r\n",
      "Collecting scikit-uplift\r\n",
      "  Downloading scikit_uplift-0.5.1-py3-none-any.whl.metadata (11 kB)\r\n",
      "Requirement already satisfied: dill in /opt/conda/lib/python3.10/site-packages (0.3.8)\r\n",
      "Requirement already satisfied: graphviz in /opt/conda/lib/python3.10/site-packages (from catboost) (0.20.3)\r\n",
      "Requirement already satisfied: matplotlib in /opt/conda/lib/python3.10/site-packages (from catboost) (3.7.5)\r\n",
      "Requirement already satisfied: numpy<2.0,>=1.16.0 in /opt/conda/lib/python3.10/site-packages (from catboost) (1.26.4)\r\n",
      "Requirement already satisfied: pandas>=0.24 in /opt/conda/lib/python3.10/site-packages (from catboost) (2.2.2)\r\n",
      "Requirement already satisfied: scipy in /opt/conda/lib/python3.10/site-packages (from catboost) (1.14.1)\r\n",
      "Requirement already satisfied: plotly in /opt/conda/lib/python3.10/site-packages (from catboost) (5.22.0)\r\n",
      "Requirement already satisfied: six in /opt/conda/lib/python3.10/site-packages (from catboost) (1.16.0)\r\n",
      "Requirement already satisfied: scikit-learn>=0.21.0 in /opt/conda/lib/python3.10/site-packages (from scikit-uplift) (1.2.2)\r\n",
      "Requirement already satisfied: requests in /opt/conda/lib/python3.10/site-packages (from scikit-uplift) (2.32.3)\r\n",
      "Requirement already satisfied: tqdm in /opt/conda/lib/python3.10/site-packages (from scikit-uplift) (4.66.4)\r\n",
      "Requirement already satisfied: python-dateutil>=2.8.2 in /opt/conda/lib/python3.10/site-packages (from pandas>=0.24->catboost) (2.9.0.post0)\r\n",
      "Requirement already satisfied: pytz>=2020.1 in /opt/conda/lib/python3.10/site-packages (from pandas>=0.24->catboost) (2024.1)\r\n",
      "Requirement already satisfied: tzdata>=2022.7 in /opt/conda/lib/python3.10/site-packages (from pandas>=0.24->catboost) (2024.1)\r\n",
      "Requirement already satisfied: joblib>=1.1.1 in /opt/conda/lib/python3.10/site-packages (from scikit-learn>=0.21.0->scikit-uplift) (1.4.2)\r\n",
      "Requirement already satisfied: threadpoolctl>=2.0.0 in /opt/conda/lib/python3.10/site-packages (from scikit-learn>=0.21.0->scikit-uplift) (3.5.0)\r\n",
      "Requirement already satisfied: contourpy>=1.0.1 in /opt/conda/lib/python3.10/site-packages (from matplotlib->catboost) (1.2.1)\r\n",
      "Requirement already satisfied: cycler>=0.10 in /opt/conda/lib/python3.10/site-packages (from matplotlib->catboost) (0.12.1)\r\n",
      "Requirement already satisfied: fonttools>=4.22.0 in /opt/conda/lib/python3.10/site-packages (from matplotlib->catboost) (4.53.0)\r\n",
      "Requirement already satisfied: kiwisolver>=1.0.1 in /opt/conda/lib/python3.10/site-packages (from matplotlib->catboost) (1.4.5)\r\n",
      "Requirement already satisfied: packaging>=20.0 in /opt/conda/lib/python3.10/site-packages (from matplotlib->catboost) (21.3)\r\n",
      "Requirement already satisfied: pillow>=6.2.0 in /opt/conda/lib/python3.10/site-packages (from matplotlib->catboost) (10.3.0)\r\n",
      "Requirement already satisfied: pyparsing>=2.3.1 in /opt/conda/lib/python3.10/site-packages (from matplotlib->catboost) (3.1.2)\r\n",
      "Requirement already satisfied: tenacity>=6.2.0 in /opt/conda/lib/python3.10/site-packages (from plotly->catboost) (8.3.0)\r\n",
      "Requirement already satisfied: charset-normalizer<4,>=2 in /opt/conda/lib/python3.10/site-packages (from requests->scikit-uplift) (3.3.2)\r\n",
      "Requirement already satisfied: idna<4,>=2.5 in /opt/conda/lib/python3.10/site-packages (from requests->scikit-uplift) (3.7)\r\n",
      "Requirement already satisfied: urllib3<3,>=1.21.1 in /opt/conda/lib/python3.10/site-packages (from requests->scikit-uplift) (1.26.18)\r\n",
      "Requirement already satisfied: certifi>=2017.4.17 in /opt/conda/lib/python3.10/site-packages (from requests->scikit-uplift) (2024.8.30)\r\n",
      "Downloading scikit_uplift-0.5.1-py3-none-any.whl (42 kB)\r\n",
      "\u001b[2K   \u001b[90m━━━━━━━━━━━━━━━━━━━━━━━━━━━━━━━━━━━━━━━━\u001b[0m \u001b[32m42.1/42.1 kB\u001b[0m \u001b[31m2.4 MB/s\u001b[0m eta \u001b[36m0:00:00\u001b[0m\r\n",
      "\u001b[?25hInstalling collected packages: scikit-uplift\r\n",
      "Successfully installed scikit-uplift-0.5.1\r\n"
     ]
    }
   ],
   "source": [
    "!pip install catboost scikit-uplift dill"
   ]
  },
  {
   "cell_type": "markdown",
   "id": "67aac939",
   "metadata": {
    "papermill": {
     "duration": 0.007559,
     "end_time": "2024-11-07T08:50:43.625760",
     "exception": false,
     "start_time": "2024-11-07T08:50:43.618201",
     "status": "completed"
    },
    "tags": []
   },
   "source": [
    "## **2. Load and Explore Data**"
   ]
  },
  {
   "cell_type": "code",
   "execution_count": 2,
   "id": "d1674b5f",
   "metadata": {
    "execution": {
     "iopub.execute_input": "2024-11-07T08:50:43.642993Z",
     "iopub.status.busy": "2024-11-07T08:50:43.642613Z",
     "iopub.status.idle": "2024-11-07T08:50:56.806120Z",
     "shell.execute_reply": "2024-11-07T08:50:56.805067Z"
    },
    "papermill": {
     "duration": 13.174725,
     "end_time": "2024-11-07T08:50:56.808268",
     "exception": false,
     "start_time": "2024-11-07T08:50:43.633543",
     "status": "completed"
    },
    "tags": []
   },
   "outputs": [
    {
     "data": {
      "text/html": [
       "<div>\n",
       "<style scoped>\n",
       "    .dataframe tbody tr th:only-of-type {\n",
       "        vertical-align: middle;\n",
       "    }\n",
       "\n",
       "    .dataframe tbody tr th {\n",
       "        vertical-align: top;\n",
       "    }\n",
       "\n",
       "    .dataframe thead th {\n",
       "        text-align: right;\n",
       "    }\n",
       "</style>\n",
       "<table border=\"1\" class=\"dataframe\">\n",
       "  <thead>\n",
       "    <tr style=\"text-align: right;\">\n",
       "      <th></th>\n",
       "      <th>application_1</th>\n",
       "      <th>cc_1</th>\n",
       "      <th>cc_2</th>\n",
       "      <th>cc_3</th>\n",
       "      <th>cc_4</th>\n",
       "      <th>feature_1</th>\n",
       "      <th>mb_1</th>\n",
       "      <th>cc_5</th>\n",
       "      <th>cc_6</th>\n",
       "      <th>feature_2</th>\n",
       "      <th>...</th>\n",
       "      <th>cc_21</th>\n",
       "      <th>application_15</th>\n",
       "      <th>feature_25</th>\n",
       "      <th>feature_26</th>\n",
       "      <th>cc_22</th>\n",
       "      <th>partner_24</th>\n",
       "      <th>application_16</th>\n",
       "      <th>retro_date</th>\n",
       "      <th>successful_utilization</th>\n",
       "      <th>treatment</th>\n",
       "    </tr>\n",
       "  </thead>\n",
       "  <tbody>\n",
       "    <tr>\n",
       "      <th>0</th>\n",
       "      <td>NaN</td>\n",
       "      <td>1.0</td>\n",
       "      <td>Representatives</td>\n",
       "      <td>123.0</td>\n",
       "      <td>Первичная ДК</td>\n",
       "      <td>1</td>\n",
       "      <td>14.0</td>\n",
       "      <td>147000.0</td>\n",
       "      <td>PLT</td>\n",
       "      <td>0.0</td>\n",
       "      <td>...</td>\n",
       "      <td>NaN</td>\n",
       "      <td>0</td>\n",
       "      <td>1.0</td>\n",
       "      <td>0.0</td>\n",
       "      <td>-1.2</td>\n",
       "      <td>1.0</td>\n",
       "      <td>0</td>\n",
       "      <td>2024-07-04</td>\n",
       "      <td>0</td>\n",
       "      <td>1</td>\n",
       "    </tr>\n",
       "    <tr>\n",
       "      <th>1</th>\n",
       "      <td>NaN</td>\n",
       "      <td>1.0</td>\n",
       "      <td>Offline</td>\n",
       "      <td>43.0</td>\n",
       "      <td>Airports</td>\n",
       "      <td>0</td>\n",
       "      <td>1.0</td>\n",
       "      <td>120000.0</td>\n",
       "      <td>PLT</td>\n",
       "      <td>0.0</td>\n",
       "      <td>...</td>\n",
       "      <td>1.0</td>\n",
       "      <td>0</td>\n",
       "      <td>1.0</td>\n",
       "      <td>0.0</td>\n",
       "      <td>-1.2</td>\n",
       "      <td>1.0</td>\n",
       "      <td>0</td>\n",
       "      <td>2024-06-06</td>\n",
       "      <td>0</td>\n",
       "      <td>1</td>\n",
       "    </tr>\n",
       "    <tr>\n",
       "      <th>2</th>\n",
       "      <td>0.0</td>\n",
       "      <td>1.0</td>\n",
       "      <td>Web</td>\n",
       "      <td>2.0</td>\n",
       "      <td>seo</td>\n",
       "      <td>0</td>\n",
       "      <td>NaN</td>\n",
       "      <td>15000.0</td>\n",
       "      <td>PLT</td>\n",
       "      <td>0.0</td>\n",
       "      <td>...</td>\n",
       "      <td>NaN</td>\n",
       "      <td>0</td>\n",
       "      <td>NaN</td>\n",
       "      <td>0.0</td>\n",
       "      <td>-1.2</td>\n",
       "      <td>1.0</td>\n",
       "      <td>0</td>\n",
       "      <td>2024-07-21</td>\n",
       "      <td>1</td>\n",
       "      <td>1</td>\n",
       "    </tr>\n",
       "    <tr>\n",
       "      <th>3</th>\n",
       "      <td>0.0</td>\n",
       "      <td>1.0</td>\n",
       "      <td>MB</td>\n",
       "      <td>2.0</td>\n",
       "      <td>One Click Offer</td>\n",
       "      <td>0</td>\n",
       "      <td>91.0</td>\n",
       "      <td>260000.0</td>\n",
       "      <td>PLT</td>\n",
       "      <td>0.0</td>\n",
       "      <td>...</td>\n",
       "      <td>1.0</td>\n",
       "      <td>0</td>\n",
       "      <td>NaN</td>\n",
       "      <td>1.0</td>\n",
       "      <td>-1.2</td>\n",
       "      <td>1.0</td>\n",
       "      <td>0</td>\n",
       "      <td>2024-05-23</td>\n",
       "      <td>0</td>\n",
       "      <td>1</td>\n",
       "    </tr>\n",
       "    <tr>\n",
       "      <th>4</th>\n",
       "      <td>0.0</td>\n",
       "      <td>1.0</td>\n",
       "      <td>Representatives</td>\n",
       "      <td>123.0</td>\n",
       "      <td>Первичная ДК</td>\n",
       "      <td>1</td>\n",
       "      <td>1.0</td>\n",
       "      <td>130000.0</td>\n",
       "      <td>PLT</td>\n",
       "      <td>0.0</td>\n",
       "      <td>...</td>\n",
       "      <td>NaN</td>\n",
       "      <td>0</td>\n",
       "      <td>1.0</td>\n",
       "      <td>0.0</td>\n",
       "      <td>-1.2</td>\n",
       "      <td>1.0</td>\n",
       "      <td>0</td>\n",
       "      <td>2024-06-28</td>\n",
       "      <td>0</td>\n",
       "      <td>1</td>\n",
       "    </tr>\n",
       "  </tbody>\n",
       "</table>\n",
       "<p>5 rows × 152 columns</p>\n",
       "</div>"
      ],
      "text/plain": [
       "   application_1  cc_1             cc_2   cc_3             cc_4  feature_1  \\\n",
       "0            NaN   1.0  Representatives  123.0     Первичная ДК          1   \n",
       "1            NaN   1.0          Offline   43.0         Airports          0   \n",
       "2            0.0   1.0              Web    2.0              seo          0   \n",
       "3            0.0   1.0               MB    2.0  One Click Offer          0   \n",
       "4            0.0   1.0  Representatives  123.0     Первичная ДК          1   \n",
       "\n",
       "   mb_1      cc_5 cc_6  feature_2  ...  cc_21  application_15  feature_25  \\\n",
       "0  14.0  147000.0  PLT        0.0  ...    NaN               0         1.0   \n",
       "1   1.0  120000.0  PLT        0.0  ...    1.0               0         1.0   \n",
       "2   NaN   15000.0  PLT        0.0  ...    NaN               0         NaN   \n",
       "3  91.0  260000.0  PLT        0.0  ...    1.0               0         NaN   \n",
       "4   1.0  130000.0  PLT        0.0  ...    NaN               0         1.0   \n",
       "\n",
       "   feature_26  cc_22  partner_24  application_16  retro_date  \\\n",
       "0         0.0   -1.2         1.0               0  2024-07-04   \n",
       "1         0.0   -1.2         1.0               0  2024-06-06   \n",
       "2         0.0   -1.2         1.0               0  2024-07-21   \n",
       "3         1.0   -1.2         1.0               0  2024-05-23   \n",
       "4         0.0   -1.2         1.0               0  2024-06-28   \n",
       "\n",
       "   successful_utilization  treatment  \n",
       "0                       0          1  \n",
       "1                       0          1  \n",
       "2                       1          1  \n",
       "3                       0          1  \n",
       "4                       0          1  \n",
       "\n",
       "[5 rows x 152 columns]"
      ]
     },
     "execution_count": 2,
     "metadata": {},
     "output_type": "execute_result"
    }
   ],
   "source": [
    "import pandas as pd\n",
    "import numpy as np\n",
    "\n",
    "# Load the datasets\n",
    "df_train = pd.read_csv(\"/kaggle/input/vk-2024-2e/train.csv\")\n",
    "df_test = pd.read_csv(\"/kaggle/input/vk-2024-2e/test.csv\")\n",
    "\n",
    "# Display the first few rows of the training data\n",
    "df_train.head()"
   ]
  },
  {
   "cell_type": "markdown",
   "id": "d723ae66",
   "metadata": {
    "papermill": {
     "duration": 0.007946,
     "end_time": "2024-11-07T08:50:56.824469",
     "exception": false,
     "start_time": "2024-11-07T08:50:56.816523",
     "status": "completed"
    },
    "tags": []
   },
   "source": [
    "### **Dataset Overview**\n",
    "\n",
    "\n",
    "\n",
    "\n",
    "\n",
    "\n",
    "\n",
    "- **Target Variable**: `successful_utilization` - indicates whether a given action was successful.\n",
    "\n",
    "\n",
    "\n",
    "- **Treatment Indicator**: `treatment` - indicates whether a sample belongs to the treatment (1) or control (0) group.\n",
    "\n",
    "\n",
    "\n",
    "- **Categorical and Date Features**: We have categorical features and a date feature (`retro_date`) that we will preprocess.\n",
    "\n",
    "\n",
    "\n",
    "\n",
    "\n",
    "\n",
    "\n",
    "---\n"
   ]
  },
  {
   "cell_type": "markdown",
   "id": "f2f433dc",
   "metadata": {
    "papermill": {
     "duration": 0.007663,
     "end_time": "2024-11-07T08:50:56.840023",
     "exception": false,
     "start_time": "2024-11-07T08:50:56.832360",
     "status": "completed"
    },
    "tags": []
   },
   "source": [
    "## **3. Data Preprocessing**"
   ]
  },
  {
   "cell_type": "code",
   "execution_count": 3,
   "id": "acbc0e76",
   "metadata": {
    "execution": {
     "iopub.execute_input": "2024-11-07T08:50:56.857182Z",
     "iopub.status.busy": "2024-11-07T08:50:56.856887Z",
     "iopub.status.idle": "2024-11-07T08:50:57.139941Z",
     "shell.execute_reply": "2024-11-07T08:50:57.139104Z"
    },
    "papermill": {
     "duration": 0.29456,
     "end_time": "2024-11-07T08:50:57.142525",
     "exception": false,
     "start_time": "2024-11-07T08:50:56.847965",
     "status": "completed"
    },
    "tags": []
   },
   "outputs": [],
   "source": [
    "from datetime import datetime\n",
    "\n",
    "# Convert date to numeric features\n",
    "\n",
    "def extract_time_features(df, date_col):\n",
    "    dt = pd.to_datetime(df[date_col])\n",
    "    df['day'] = dt.dt.day\n",
    "    df['dayofweek'] = dt.dt.weekday\n",
    "    df['month'] = dt.dt.month\n",
    "    df['year'] = dt.dt.year\n",
    "    df.drop(columns=[date_col], inplace=True)\n",
    "    return df\n",
    "\n",
    "# Apply date transformation\n",
    "df_train = extract_time_features(df_train, 'retro_date')\n",
    "df_test = extract_time_features(df_test, 'retro_date')"
   ]
  },
  {
   "cell_type": "markdown",
   "id": "0fca9a34",
   "metadata": {
    "papermill": {
     "duration": 0.008377,
     "end_time": "2024-11-07T08:50:57.159887",
     "exception": false,
     "start_time": "2024-11-07T08:50:57.151510",
     "status": "completed"
    },
    "tags": []
   },
   "source": [
    "### **Handling Missing Values**\n",
    "\n",
    "\n",
    "\n",
    "\n",
    "\n",
    "\n",
    "\n",
    "- **Categorical Columns**: Replace missing values with the most frequent value.\n",
    "\n",
    "\n",
    "\n",
    "- **Numerical Columns**: Replace missing values with the median value.\n",
    "\n",
    "\n",
    "\n",
    "\n"
   ]
  },
  {
   "cell_type": "code",
   "execution_count": 4,
   "id": "4bd14dd9",
   "metadata": {
    "execution": {
     "iopub.execute_input": "2024-11-07T08:50:57.178415Z",
     "iopub.status.busy": "2024-11-07T08:50:57.177778Z",
     "iopub.status.idle": "2024-11-07T08:50:58.900453Z",
     "shell.execute_reply": "2024-11-07T08:50:58.899384Z"
    },
    "papermill": {
     "duration": 1.734516,
     "end_time": "2024-11-07T08:50:58.902877",
     "exception": false,
     "start_time": "2024-11-07T08:50:57.168361",
     "status": "completed"
    },
    "tags": []
   },
   "outputs": [],
   "source": [
    "categorical_columns = ['cc_2', 'cc_4', 'cc_6']\n",
    "numeric_columns = df_train.select_dtypes(include=['float64', 'int64']).columns\n",
    "\n",
    "# Handling missing values for categorical columns\n",
    "for col in categorical_columns:\n",
    "    if col in df_train.columns:\n",
    "        most_frequent = df_train[col].mode()[0]\n",
    "        df_train[col] = df_train[col].fillna(most_frequent)\n",
    "    if col in df_test.columns:\n",
    "        df_test[col] = df_test[col].fillna(most_frequent)\n",
    "\n",
    "# Handling missing values for numeric columns\n",
    "numeric_columns = df_train.select_dtypes(include=['float64', 'int64']).columns\n",
    "for col in numeric_columns:\n",
    "    median_value = df_train[col].median() if col in df_train.columns else None\n",
    "    if col in df_train.columns:\n",
    "        df_train[col] = df_train[col].fillna(median_value)\n",
    "    if col in df_test.columns:\n",
    "        df_test[col] = df_test[col].fillna(median_value)"
   ]
  },
  {
   "cell_type": "markdown",
   "id": "b6e233b8",
   "metadata": {
    "papermill": {
     "duration": 0.00794,
     "end_time": "2024-11-07T08:50:58.919261",
     "exception": false,
     "start_time": "2024-11-07T08:50:58.911321",
     "status": "completed"
    },
    "tags": []
   },
   "source": [
    "## **4. One Model Approach**"
   ]
  },
  {
   "cell_type": "markdown",
   "id": "88784c5b",
   "metadata": {
    "papermill": {
     "duration": 0.007722,
     "end_time": "2024-11-07T08:50:58.935164",
     "exception": false,
     "start_time": "2024-11-07T08:50:58.927442",
     "status": "completed"
    },
    "tags": []
   },
   "source": [
    "In the One Model approach, we define a **transformed target** to capture the treatment effect by combining the target and treatment values.\n",
    "\n",
    "\n",
    "\n",
    "\n",
    "\n",
    "\n",
    "\n",
    "### **Transformed Target Definition**\n"
   ]
  },
  {
   "cell_type": "code",
   "execution_count": 5,
   "id": "92f7bf71",
   "metadata": {
    "execution": {
     "iopub.execute_input": "2024-11-07T08:50:58.952743Z",
     "iopub.status.busy": "2024-11-07T08:50:58.952372Z",
     "iopub.status.idle": "2024-11-07T08:50:58.964035Z",
     "shell.execute_reply": "2024-11-07T08:50:58.963060Z"
    },
    "papermill": {
     "duration": 0.023019,
     "end_time": "2024-11-07T08:50:58.966182",
     "exception": false,
     "start_time": "2024-11-07T08:50:58.943163",
     "status": "completed"
    },
    "tags": []
   },
   "outputs": [
    {
     "name": "stderr",
     "output_type": "stream",
     "text": [
      "/tmp/ipykernel_23/3270874758.py:2: PerformanceWarning: DataFrame is highly fragmented.  This is usually the result of calling `frame.insert` many times, which has poor performance.  Consider joining all columns at once using pd.concat(axis=1) instead. To get a de-fragmented frame, use `newframe = frame.copy()`\n",
      "  df_train['new_target'] = (df_train['successful_utilization'] + df_train['treatment'] + 1) % 2\n"
     ]
    }
   ],
   "source": [
    "# Define transformed target\n",
    "df_train['new_target'] = (df_train['successful_utilization'] + df_train['treatment'] + 1) % 2\n",
    "\n",
    "# Define features\n",
    "features = df_train.columns.drop(['successful_utilization', 'treatment', 'new_target'])"
   ]
  },
  {
   "cell_type": "markdown",
   "id": "ad8584d5",
   "metadata": {
    "papermill": {
     "duration": 0.007789,
     "end_time": "2024-11-07T08:50:58.982062",
     "exception": false,
     "start_time": "2024-11-07T08:50:58.974273",
     "status": "completed"
    },
    "tags": []
   },
   "source": [
    "### **Split Data**"
   ]
  },
  {
   "cell_type": "code",
   "execution_count": 6,
   "id": "3773b105",
   "metadata": {
    "execution": {
     "iopub.execute_input": "2024-11-07T08:50:58.999875Z",
     "iopub.status.busy": "2024-11-07T08:50:58.998971Z",
     "iopub.status.idle": "2024-11-07T08:51:01.183734Z",
     "shell.execute_reply": "2024-11-07T08:51:01.182751Z"
    },
    "papermill": {
     "duration": 2.196202,
     "end_time": "2024-11-07T08:51:01.186204",
     "exception": false,
     "start_time": "2024-11-07T08:50:58.990002",
     "status": "completed"
    },
    "tags": []
   },
   "outputs": [],
   "source": [
    "from sklearn.model_selection import train_test_split\n",
    "\n",
    "X_train, X_val, y_train, y_val = train_test_split(\n",
    "    df_train[features], df_train['new_target'], test_size=0.2, random_state=42\n",
    ")"
   ]
  },
  {
   "cell_type": "markdown",
   "id": "b7e3e980",
   "metadata": {
    "papermill": {
     "duration": 0.007906,
     "end_time": "2024-11-07T08:51:01.202685",
     "exception": false,
     "start_time": "2024-11-07T08:51:01.194779",
     "status": "completed"
    },
    "tags": []
   },
   "source": [
    "### **Train the One Model**"
   ]
  },
  {
   "cell_type": "code",
   "execution_count": 7,
   "id": "df7e725e",
   "metadata": {
    "execution": {
     "iopub.execute_input": "2024-11-07T08:51:01.220472Z",
     "iopub.status.busy": "2024-11-07T08:51:01.219968Z",
     "iopub.status.idle": "2024-11-07T08:52:19.853303Z",
     "shell.execute_reply": "2024-11-07T08:52:19.852229Z"
    },
    "papermill": {
     "duration": 78.64476,
     "end_time": "2024-11-07T08:52:19.855526",
     "exception": false,
     "start_time": "2024-11-07T08:51:01.210766",
     "status": "completed"
    },
    "tags": []
   },
   "outputs": [
    {
     "name": "stdout",
     "output_type": "stream",
     "text": [
      "Learning rate set to 0.033568\n"
     ]
    },
    {
     "name": "stderr",
     "output_type": "stream",
     "text": [
      "Default metric period is 5 because AUC is/are not implemented for GPU\n"
     ]
    },
    {
     "name": "stdout",
     "output_type": "stream",
     "text": [
      "0:\ttest: 0.6496548\tbest: 0.6496548 (0)\ttotal: 6.84s\tremaining: 3h 47m 46s\n",
      "100:\ttest: 0.6831170\tbest: 0.6831170 (100)\ttotal: 9.36s\tremaining: 2m 55s\n",
      "200:\ttest: 0.6906721\tbest: 0.6906721 (200)\ttotal: 11.9s\tremaining: 1m 46s\n",
      "300:\ttest: 0.6945066\tbest: 0.6945066 (300)\ttotal: 14.4s\tremaining: 1m 21s\n",
      "400:\ttest: 0.6968951\tbest: 0.6968951 (400)\ttotal: 16.9s\tremaining: 1m 7s\n",
      "500:\ttest: 0.6985017\tbest: 0.6985017 (500)\ttotal: 19.4s\tremaining: 58s\n",
      "600:\ttest: 0.6996079\tbest: 0.6996079 (600)\ttotal: 21.9s\tremaining: 51s\n",
      "700:\ttest: 0.7004599\tbest: 0.7004599 (700)\ttotal: 24.4s\tremaining: 45.3s\n",
      "800:\ttest: 0.7009368\tbest: 0.7009450 (795)\ttotal: 26.9s\tremaining: 40.3s\n",
      "900:\ttest: 0.7013677\tbest: 0.7013677 (900)\ttotal: 29.4s\tremaining: 35.8s\n",
      "1000:\ttest: 0.7017278\tbest: 0.7017278 (1000)\ttotal: 31.9s\tremaining: 31.8s\n",
      "1100:\ttest: 0.7019863\tbest: 0.7019863 (1100)\ttotal: 34.3s\tremaining: 28s\n",
      "1200:\ttest: 0.7023373\tbest: 0.7023373 (1200)\ttotal: 36.8s\tremaining: 24.5s\n",
      "1300:\ttest: 0.7025011\tbest: 0.7025011 (1300)\ttotal: 39.3s\tremaining: 21.1s\n",
      "1400:\ttest: 0.7026428\tbest: 0.7026526 (1390)\ttotal: 41.8s\tremaining: 17.9s\n",
      "1500:\ttest: 0.7027886\tbest: 0.7027886 (1500)\ttotal: 44.3s\tremaining: 14.7s\n",
      "1600:\ttest: 0.7029750\tbest: 0.7029750 (1600)\ttotal: 46.7s\tremaining: 11.6s\n",
      "1700:\ttest: 0.7030789\tbest: 0.7030792 (1680)\ttotal: 49.2s\tremaining: 8.65s\n",
      "1800:\ttest: 0.7030997\tbest: 0.7031247 (1710)\ttotal: 51.7s\tremaining: 5.71s\n",
      "1900:\ttest: 0.7031206\tbest: 0.7031675 (1885)\ttotal: 54.3s\tremaining: 2.83s\n",
      "1999:\ttest: 0.7031487\tbest: 0.7031675 (1885)\ttotal: 56.7s\tremaining: 0us\n",
      "bestTest = 0.7031674981\n",
      "bestIteration = 1885\n",
      "Shrink model to first 1886 iterations.\n"
     ]
    },
    {
     "data": {
      "text/plain": [
       "<catboost.core.CatBoostClassifier at 0x7f66abcede40>"
      ]
     },
     "execution_count": 7,
     "metadata": {},
     "output_type": "execute_result"
    }
   ],
   "source": [
    "from catboost import CatBoostClassifier\n",
    "\n",
    "model_one = CatBoostClassifier(\n",
    "    iterations=2000, random_seed=42, depth=6,\n",
    "    cat_features=categorical_columns, eval_metric='AUC', \n",
    "    auto_class_weights='Balanced', task_type=\"GPU\", verbose=100\n",
    ")\n",
    "\n",
    "model_one.fit(X_train, y_train, eval_set=(X_val, y_val), use_best_model=True)"
   ]
  },
  {
   "cell_type": "markdown",
   "id": "6b340cb2",
   "metadata": {
    "papermill": {
     "duration": 0.009823,
     "end_time": "2024-11-07T08:52:19.875383",
     "exception": false,
     "start_time": "2024-11-07T08:52:19.865560",
     "status": "completed"
    },
    "tags": []
   },
   "source": [
    "## **5. Two Model Approach**"
   ]
  },
  {
   "cell_type": "markdown",
   "id": "81d5644b",
   "metadata": {
    "papermill": {
     "duration": 0.009998,
     "end_time": "2024-11-07T08:52:19.895174",
     "exception": false,
     "start_time": "2024-11-07T08:52:19.885176",
     "status": "completed"
    },
    "tags": []
   },
   "source": [
    "In the Two Model approach, we train two separate models for the treatment and control groups.\n",
    "\n",
    "\n",
    "\n",
    "\n",
    "\n",
    "\n",
    "\n",
    "### **Split Data for Two Models**\n"
   ]
  },
  {
   "cell_type": "code",
   "execution_count": 8,
   "id": "ab589174",
   "metadata": {
    "execution": {
     "iopub.execute_input": "2024-11-07T08:52:19.916897Z",
     "iopub.status.busy": "2024-11-07T08:52:19.916563Z",
     "iopub.status.idle": "2024-11-07T08:52:22.688391Z",
     "shell.execute_reply": "2024-11-07T08:52:22.687380Z"
    },
    "papermill": {
     "duration": 2.78547,
     "end_time": "2024-11-07T08:52:22.690879",
     "exception": false,
     "start_time": "2024-11-07T08:52:19.905409",
     "status": "completed"
    },
    "tags": []
   },
   "outputs": [],
   "source": [
    "X = df_train.drop(columns=['successful_utilization', 'treatment', 'new_target']) # Don't forget drop new_target from One Model Approach!\n",
    "y = df_train['successful_utilization']\n",
    "treatment_series = df_train['treatment']\n",
    "\n",
    "X_train_2, X_val_2, trmnt_train, trmnt_val, y_train_2, y_val_2 = train_test_split(\n",
    "    X, treatment_series, y, stratify=pd.concat([treatment_series, y], axis=1), test_size=0.2, random_state=2024\n",
    ")"
   ]
  },
  {
   "cell_type": "markdown",
   "id": "d7e9e266",
   "metadata": {
    "papermill": {
     "duration": 0.010003,
     "end_time": "2024-11-07T08:52:22.711152",
     "exception": false,
     "start_time": "2024-11-07T08:52:22.701149",
     "status": "completed"
    },
    "tags": []
   },
   "source": [
    "### **Train the Two Model Approach**"
   ]
  },
  {
   "cell_type": "code",
   "execution_count": 9,
   "id": "0924b7b3",
   "metadata": {
    "execution": {
     "iopub.execute_input": "2024-11-07T08:52:22.732221Z",
     "iopub.status.busy": "2024-11-07T08:52:22.731891Z",
     "iopub.status.idle": "2024-11-07T08:53:39.413346Z",
     "shell.execute_reply": "2024-11-07T08:53:39.412404Z"
    },
    "papermill": {
     "duration": 76.694596,
     "end_time": "2024-11-07T08:53:39.415656",
     "exception": false,
     "start_time": "2024-11-07T08:52:22.721060",
     "status": "completed"
    },
    "tags": []
   },
   "outputs": [
    {
     "name": "stdout",
     "output_type": "stream",
     "text": [
      "Learning rate set to 0.02943\n",
      "0:\tlearn: 0.6907771\ttotal: 55.6ms\tremaining: 55.5s\n",
      "100:\tlearn: 0.6164030\ttotal: 5.04s\tremaining: 44.8s\n",
      "200:\tlearn: 0.5913467\ttotal: 10s\tremaining: 39.8s\n",
      "300:\tlearn: 0.5741458\ttotal: 14.9s\tremaining: 34.6s\n",
      "400:\tlearn: 0.5567438\ttotal: 19.8s\tremaining: 29.5s\n",
      "500:\tlearn: 0.5401676\ttotal: 24.7s\tremaining: 24.6s\n",
      "600:\tlearn: 0.5230515\ttotal: 29.5s\tremaining: 19.6s\n",
      "700:\tlearn: 0.5093931\ttotal: 34.4s\tremaining: 14.7s\n",
      "800:\tlearn: 0.4964616\ttotal: 39.4s\tremaining: 9.78s\n",
      "900:\tlearn: 0.4852316\ttotal: 44.3s\tremaining: 4.87s\n",
      "999:\tlearn: 0.4748222\ttotal: 49.2s\tremaining: 0us\n",
      "Learning rate set to 0.025021\n",
      "0:\tlearn: 0.6903647\ttotal: 27ms\tremaining: 26.9s\n",
      "100:\tlearn: 0.6210514\ttotal: 2.5s\tremaining: 22.3s\n",
      "200:\tlearn: 0.6091461\ttotal: 5.03s\tremaining: 20s\n",
      "300:\tlearn: 0.6027669\ttotal: 7.5s\tremaining: 17.4s\n",
      "400:\tlearn: 0.5984655\ttotal: 9.93s\tremaining: 14.8s\n",
      "500:\tlearn: 0.5952032\ttotal: 12.4s\tremaining: 12.3s\n",
      "600:\tlearn: 0.5921697\ttotal: 14.8s\tremaining: 9.8s\n",
      "700:\tlearn: 0.5895208\ttotal: 17.2s\tremaining: 7.32s\n",
      "800:\tlearn: 0.5873173\ttotal: 19.6s\tremaining: 4.87s\n",
      "900:\tlearn: 0.5852865\ttotal: 22s\tremaining: 2.42s\n",
      "999:\tlearn: 0.5832036\ttotal: 24.4s\tremaining: 0us\n"
     ]
    },
    {
     "data": {
      "text/html": [
       "<style>#sk-container-id-1 {color: black;background-color: white;}#sk-container-id-1 pre{padding: 0;}#sk-container-id-1 div.sk-toggleable {background-color: white;}#sk-container-id-1 label.sk-toggleable__label {cursor: pointer;display: block;width: 100%;margin-bottom: 0;padding: 0.3em;box-sizing: border-box;text-align: center;}#sk-container-id-1 label.sk-toggleable__label-arrow:before {content: \"▸\";float: left;margin-right: 0.25em;color: #696969;}#sk-container-id-1 label.sk-toggleable__label-arrow:hover:before {color: black;}#sk-container-id-1 div.sk-estimator:hover label.sk-toggleable__label-arrow:before {color: black;}#sk-container-id-1 div.sk-toggleable__content {max-height: 0;max-width: 0;overflow: hidden;text-align: left;background-color: #f0f8ff;}#sk-container-id-1 div.sk-toggleable__content pre {margin: 0.2em;color: black;border-radius: 0.25em;background-color: #f0f8ff;}#sk-container-id-1 input.sk-toggleable__control:checked~div.sk-toggleable__content {max-height: 200px;max-width: 100%;overflow: auto;}#sk-container-id-1 input.sk-toggleable__control:checked~label.sk-toggleable__label-arrow:before {content: \"▾\";}#sk-container-id-1 div.sk-estimator input.sk-toggleable__control:checked~label.sk-toggleable__label {background-color: #d4ebff;}#sk-container-id-1 div.sk-label input.sk-toggleable__control:checked~label.sk-toggleable__label {background-color: #d4ebff;}#sk-container-id-1 input.sk-hidden--visually {border: 0;clip: rect(1px 1px 1px 1px);clip: rect(1px, 1px, 1px, 1px);height: 1px;margin: -1px;overflow: hidden;padding: 0;position: absolute;width: 1px;}#sk-container-id-1 div.sk-estimator {font-family: monospace;background-color: #f0f8ff;border: 1px dotted black;border-radius: 0.25em;box-sizing: border-box;margin-bottom: 0.5em;}#sk-container-id-1 div.sk-estimator:hover {background-color: #d4ebff;}#sk-container-id-1 div.sk-parallel-item::after {content: \"\";width: 100%;border-bottom: 1px solid gray;flex-grow: 1;}#sk-container-id-1 div.sk-label:hover label.sk-toggleable__label {background-color: #d4ebff;}#sk-container-id-1 div.sk-serial::before {content: \"\";position: absolute;border-left: 1px solid gray;box-sizing: border-box;top: 0;bottom: 0;left: 50%;z-index: 0;}#sk-container-id-1 div.sk-serial {display: flex;flex-direction: column;align-items: center;background-color: white;padding-right: 0.2em;padding-left: 0.2em;position: relative;}#sk-container-id-1 div.sk-item {position: relative;z-index: 1;}#sk-container-id-1 div.sk-parallel {display: flex;align-items: stretch;justify-content: center;background-color: white;position: relative;}#sk-container-id-1 div.sk-item::before, #sk-container-id-1 div.sk-parallel-item::before {content: \"\";position: absolute;border-left: 1px solid gray;box-sizing: border-box;top: 0;bottom: 0;left: 50%;z-index: -1;}#sk-container-id-1 div.sk-parallel-item {display: flex;flex-direction: column;z-index: 1;position: relative;background-color: white;}#sk-container-id-1 div.sk-parallel-item:first-child::after {align-self: flex-end;width: 50%;}#sk-container-id-1 div.sk-parallel-item:last-child::after {align-self: flex-start;width: 50%;}#sk-container-id-1 div.sk-parallel-item:only-child::after {width: 0;}#sk-container-id-1 div.sk-dashed-wrapped {border: 1px dashed gray;margin: 0 0.4em 0.5em 0.4em;box-sizing: border-box;padding-bottom: 0.4em;background-color: white;}#sk-container-id-1 div.sk-label label {font-family: monospace;font-weight: bold;display: inline-block;line-height: 1.2em;}#sk-container-id-1 div.sk-label-container {text-align: center;}#sk-container-id-1 div.sk-container {/* jupyter's `normalize.less` sets `[hidden] { display: none; }` but bootstrap.min.css set `[hidden] { display: none !important; }` so we also need the `!important` here to be able to override the default hidden behavior on the sphinx rendered scikit-learn.org. See: https://github.com/scikit-learn/scikit-learn/issues/21755 */display: inline-block !important;position: relative;}#sk-container-id-1 div.sk-text-repr-fallback {display: none;}</style><div id=\"sk-container-id-1\" class=\"sk-top-container\"><div class=\"sk-text-repr-fallback\"><pre>TwoModels(estimator_ctrl=&lt;catboost.core.CatBoostClassifier object at 0x7f669c06c0a0&gt;,\n",
       "          estimator_trmnt=&lt;catboost.core.CatBoostClassifier object at 0x7f66abf1e440&gt;)</pre><b>In a Jupyter environment, please rerun this cell to show the HTML representation or trust the notebook. <br />On GitHub, the HTML representation is unable to render, please try loading this page with nbviewer.org.</b></div><div class=\"sk-container\" hidden><div class=\"sk-item sk-dashed-wrapped\"><div class=\"sk-label-container\"><div class=\"sk-label sk-toggleable\"><input class=\"sk-toggleable__control sk-hidden--visually\" id=\"sk-estimator-id-1\" type=\"checkbox\" ><label for=\"sk-estimator-id-1\" class=\"sk-toggleable__label sk-toggleable__label-arrow\">TwoModels</label><div class=\"sk-toggleable__content\"><pre>TwoModels(estimator_ctrl=&lt;catboost.core.CatBoostClassifier object at 0x7f669c06c0a0&gt;,\n",
       "          estimator_trmnt=&lt;catboost.core.CatBoostClassifier object at 0x7f66abf1e440&gt;)</pre></div></div></div><div class=\"sk-parallel\"><div class=\"sk-parallel-item\"><div class=\"sk-item\"><div class=\"sk-label-container\"><div class=\"sk-label sk-toggleable\"><input class=\"sk-toggleable__control sk-hidden--visually\" id=\"sk-estimator-id-2\" type=\"checkbox\" ><label for=\"sk-estimator-id-2\" class=\"sk-toggleable__label sk-toggleable__label-arrow\">estimator_ctrl: CatBoostClassifier</label><div class=\"sk-toggleable__content\"><pre>&lt;catboost.core.CatBoostClassifier object at 0x7f669c06c0a0&gt;</pre></div></div></div><div class=\"sk-serial\"><div class=\"sk-item\"><div class=\"sk-estimator sk-toggleable\"><input class=\"sk-toggleable__control sk-hidden--visually\" id=\"sk-estimator-id-3\" type=\"checkbox\" ><label for=\"sk-estimator-id-3\" class=\"sk-toggleable__label sk-toggleable__label-arrow\">CatBoostClassifier</label><div class=\"sk-toggleable__content\"><pre>&lt;catboost.core.CatBoostClassifier object at 0x7f669c06c0a0&gt;</pre></div></div></div></div></div></div><div class=\"sk-parallel-item\"><div class=\"sk-item\"><div class=\"sk-label-container\"><div class=\"sk-label sk-toggleable\"><input class=\"sk-toggleable__control sk-hidden--visually\" id=\"sk-estimator-id-4\" type=\"checkbox\" ><label for=\"sk-estimator-id-4\" class=\"sk-toggleable__label sk-toggleable__label-arrow\">estimator_trmnt: CatBoostClassifier</label><div class=\"sk-toggleable__content\"><pre>&lt;catboost.core.CatBoostClassifier object at 0x7f66abf1e440&gt;</pre></div></div></div><div class=\"sk-serial\"><div class=\"sk-item\"><div class=\"sk-estimator sk-toggleable\"><input class=\"sk-toggleable__control sk-hidden--visually\" id=\"sk-estimator-id-5\" type=\"checkbox\" ><label for=\"sk-estimator-id-5\" class=\"sk-toggleable__label sk-toggleable__label-arrow\">CatBoostClassifier</label><div class=\"sk-toggleable__content\"><pre>&lt;catboost.core.CatBoostClassifier object at 0x7f66abf1e440&gt;</pre></div></div></div></div></div></div></div></div></div></div>"
      ],
      "text/plain": [
       "TwoModels(estimator_ctrl=<catboost.core.CatBoostClassifier object at 0x7f669c06c0a0>,\n",
       "          estimator_trmnt=<catboost.core.CatBoostClassifier object at 0x7f66abf1e440>)"
      ]
     },
     "execution_count": 9,
     "metadata": {},
     "output_type": "execute_result"
    }
   ],
   "source": [
    "from sklift.models import TwoModels\n",
    "\n",
    "estimator_trmnt = CatBoostClassifier(\n",
    "    thread_count=2, random_state=42, auto_class_weights='Balanced', iterations=1000, task_type=\"GPU\", verbose=100\n",
    ")\n",
    "\n",
    "estimator_ctrl = CatBoostClassifier(\n",
    "    thread_count=2, random_state=42, auto_class_weights='Balanced', iterations=1000, task_type=\"GPU\", verbose=100\n",
    ")\n",
    "\n",
    "two_model = TwoModels(\n",
    "    estimator_trmnt=estimator_trmnt,\n",
    "    estimator_ctrl=estimator_ctrl,\n",
    "    method='vanilla'\n",
    ")\n",
    "\n",
    "\n",
    "\n",
    "two_model.fit(\n",
    "    X=X_train_2, y=y_train_2, treatment=trmnt_train,\n",
    "    estimator_trmnt_fit_params={'cat_features': categorical_columns},\n",
    "    estimator_ctrl_fit_params={'cat_features': categorical_columns}\n",
    ")"
   ]
  },
  {
   "cell_type": "markdown",
   "id": "f0e9ddcc",
   "metadata": {
    "papermill": {
     "duration": 0.012801,
     "end_time": "2024-11-07T08:53:39.444812",
     "exception": false,
     "start_time": "2024-11-07T08:53:39.432011",
     "status": "completed"
    },
    "tags": []
   },
   "source": [
    "## **6. Predictions and Evaluation**"
   ]
  },
  {
   "cell_type": "markdown",
   "id": "98e03c84",
   "metadata": {
    "papermill": {
     "duration": 0.011591,
     "end_time": "2024-11-07T08:53:39.468328",
     "exception": false,
     "start_time": "2024-11-07T08:53:39.456737",
     "status": "completed"
    },
    "tags": []
   },
   "source": [
    "Now, we’ll make predictions for the test data and compare the uplift results from both approaches.\n",
    "\n",
    "\n",
    "\n",
    "\n",
    "\n",
    "\n",
    "\n",
    "### **One Model Predictions**\n"
   ]
  },
  {
   "cell_type": "code",
   "execution_count": 10,
   "id": "626f4c36",
   "metadata": {
    "execution": {
     "iopub.execute_input": "2024-11-07T08:53:39.493508Z",
     "iopub.status.busy": "2024-11-07T08:53:39.493136Z",
     "iopub.status.idle": "2024-11-07T08:53:39.834793Z",
     "shell.execute_reply": "2024-11-07T08:53:39.833744Z"
    },
    "papermill": {
     "duration": 0.356882,
     "end_time": "2024-11-07T08:53:39.837228",
     "exception": false,
     "start_time": "2024-11-07T08:53:39.480346",
     "status": "completed"
    },
    "tags": []
   },
   "outputs": [],
   "source": [
    "preds_test_one_model = model_one.predict_proba(df_test[features])[:, 1]"
   ]
  },
  {
   "cell_type": "markdown",
   "id": "9856132f",
   "metadata": {
    "papermill": {
     "duration": 0.011613,
     "end_time": "2024-11-07T08:53:39.861807",
     "exception": false,
     "start_time": "2024-11-07T08:53:39.850194",
     "status": "completed"
    },
    "tags": []
   },
   "source": [
    "### **Two Model Predictions**"
   ]
  },
  {
   "cell_type": "code",
   "execution_count": 11,
   "id": "b6a65874",
   "metadata": {
    "execution": {
     "iopub.execute_input": "2024-11-07T08:53:39.886879Z",
     "iopub.status.busy": "2024-11-07T08:53:39.886527Z",
     "iopub.status.idle": "2024-11-07T08:53:40.443029Z",
     "shell.execute_reply": "2024-11-07T08:53:40.442135Z"
    },
    "papermill": {
     "duration": 0.571616,
     "end_time": "2024-11-07T08:53:40.445308",
     "exception": false,
     "start_time": "2024-11-07T08:53:39.873692",
     "status": "completed"
    },
    "tags": []
   },
   "outputs": [],
   "source": [
    "uplift_predictions_test = two_model.predict(df_test)"
   ]
  },
  {
   "cell_type": "markdown",
   "id": "001fa44d",
   "metadata": {
    "papermill": {
     "duration": 0.011873,
     "end_time": "2024-11-07T08:53:40.469504",
     "exception": false,
     "start_time": "2024-11-07T08:53:40.457631",
     "status": "completed"
    },
    "tags": []
   },
   "source": [
    "## **7. Saving Results**"
   ]
  },
  {
   "cell_type": "markdown",
   "id": "77ef9681",
   "metadata": {
    "papermill": {
     "duration": 0.011611,
     "end_time": "2024-11-07T08:53:40.493007",
     "exception": false,
     "start_time": "2024-11-07T08:53:40.481396",
     "status": "completed"
    },
    "tags": []
   },
   "source": [
    "We save both sets of predictions in a single CSV file for easy comparison.\n"
   ]
  },
  {
   "cell_type": "code",
   "execution_count": 12,
   "id": "f9b4bbcc",
   "metadata": {
    "execution": {
     "iopub.execute_input": "2024-11-07T08:53:40.518553Z",
     "iopub.status.busy": "2024-11-07T08:53:40.517833Z",
     "iopub.status.idle": "2024-11-07T08:53:41.052931Z",
     "shell.execute_reply": "2024-11-07T08:53:41.052131Z"
    },
    "papermill": {
     "duration": 0.550436,
     "end_time": "2024-11-07T08:53:41.055294",
     "exception": false,
     "start_time": "2024-11-07T08:53:40.504858",
     "status": "completed"
    },
    "tags": []
   },
   "outputs": [],
   "source": [
    "sub = pd.read_csv('/kaggle/input/vk-2024-2e/sample_submission.csv')\n",
    "sub['successful_utilization_one_model'] = preds_test_one_model\n",
    "sub['successful_utilization_two_model'] = uplift_predictions_test\n",
    "sub.to_csv('submission.csv', index=False)"
   ]
  }
 ],
 "metadata": {
  "kaggle": {
   "accelerator": "gpu",
   "dataSources": [
    {
     "databundleVersionId": 10074970,
     "datasetId": 6026365,
     "isSourceIdPinned": true,
     "sourceId": 9826835,
     "sourceType": "datasetVersion"
    }
   ],
   "dockerImageVersionId": 30787,
   "isGpuEnabled": true,
   "isInternetEnabled": true,
   "language": "python",
   "sourceType": "notebook"
  },
  "kernelspec": {
   "display_name": "Python 3",
   "language": "python",
   "name": "python3"
  },
  "language_info": {
   "codemirror_mode": {
    "name": "ipython",
    "version": 3
   },
   "file_extension": ".py",
   "mimetype": "text/x-python",
   "name": "python",
   "nbconvert_exporter": "python",
   "pygments_lexer": "ipython3",
   "version": "3.10.14"
  },
  "papermill": {
   "default_parameters": {},
   "duration": 193.507921,
   "end_time": "2024-11-07T08:53:41.686692",
   "environment_variables": {},
   "exception": null,
   "input_path": "__notebook__.ipynb",
   "output_path": "__notebook__.ipynb",
   "parameters": {},
   "start_time": "2024-11-07T08:50:28.178771",
   "version": "2.6.0"
  }
 },
 "nbformat": 4,
 "nbformat_minor": 5
}
