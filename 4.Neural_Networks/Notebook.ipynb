{
 "cells": [
  {
   "cell_type": "markdown",
   "id": "6772e3ff",
   "metadata": {
    "papermill": {
     "duration": 0.005612,
     "end_time": "2024-10-28T15:54:42.477807",
     "exception": false,
     "start_time": "2024-10-28T15:54:42.472195",
     "status": "completed"
    },
    "tags": []
   },
   "source": [
    "# TensorFlow Neural Network for MNIST\n",
    "In this notebook, we will build a neural network to classify handwritten digits from the MNIST dataset using TensorFlow.\n",
    "We'll explore each step in creating, training, and evaluating the model."
   ]
  },
  {
   "cell_type": "code",
   "execution_count": 1,
   "id": "28856d9b",
   "metadata": {
    "execution": {
     "iopub.execute_input": "2024-10-28T15:54:42.489648Z",
     "iopub.status.busy": "2024-10-28T15:54:42.488430Z",
     "iopub.status.idle": "2024-10-28T15:54:57.028793Z",
     "shell.execute_reply": "2024-10-28T15:54:57.027810Z"
    },
    "papermill": {
     "duration": 14.548817,
     "end_time": "2024-10-28T15:54:57.031464",
     "exception": false,
     "start_time": "2024-10-28T15:54:42.482647",
     "status": "completed"
    },
    "tags": []
   },
   "outputs": [],
   "source": [
    "import tensorflow as tf\n",
    "from tensorflow.keras import layers, models\n",
    "import numpy as np\n",
    "import matplotlib.pyplot as plt"
   ]
  },
  {
   "cell_type": "markdown",
   "id": "f77bac71",
   "metadata": {
    "papermill": {
     "duration": 0.004134,
     "end_time": "2024-10-28T15:54:57.040416",
     "exception": false,
     "start_time": "2024-10-28T15:54:57.036282",
     "status": "completed"
    },
    "tags": []
   },
   "source": [
    "## Loading and Exploring the Dataset"
   ]
  },
  {
   "cell_type": "code",
   "execution_count": 2,
   "id": "614de0b1",
   "metadata": {
    "execution": {
     "iopub.execute_input": "2024-10-28T15:54:57.051719Z",
     "iopub.status.busy": "2024-10-28T15:54:57.050465Z",
     "iopub.status.idle": "2024-10-28T15:54:58.974105Z",
     "shell.execute_reply": "2024-10-28T15:54:58.972783Z"
    },
    "papermill": {
     "duration": 1.932827,
     "end_time": "2024-10-28T15:54:58.977625",
     "exception": false,
     "start_time": "2024-10-28T15:54:57.044798",
     "status": "completed"
    },
    "tags": []
   },
   "outputs": [
    {
     "name": "stdout",
     "output_type": "stream",
     "text": [
      "Downloading data from https://storage.googleapis.com/tensorflow/tf-keras-datasets/mnist.npz\n",
      "\u001b[1m11490434/11490434\u001b[0m \u001b[32m━━━━━━━━━━━━━━━━━━━━\u001b[0m\u001b[37m\u001b[0m \u001b[1m1s\u001b[0m 0us/step\n",
      "Training data shape: (60000, 28, 28)\n",
      "Test data shape: (10000, 28, 28)\n"
     ]
    },
    {
     "data": {
      "image/png": "[encoded data removed]",
      "text/plain": [
       "<Figure size 1000x500 with 5 Axes>"
      ]
     },
     "metadata": {},
     "output_type": "display_data"
    }
   ],
   "source": [
    "# Load the MNIST dataset from TensorFlow's datasets\n",
    "(x_train, y_train), (x_test, y_test) = tf.keras.datasets.mnist.load_data()\n",
    "\n",
    "# Print dataset shapes\n",
    "print('Training data shape:', x_train.shape)\n",
    "print('Test data shape:', x_test.shape)\n",
    "\n",
    "# Display a few samples\n",
    "plt.figure(figsize=(10, 5))\n",
    "for i in range(5):\n",
    "    plt.subplot(1, 5, i + 1)\n",
    "    plt.imshow(x_train[i], cmap='gray')\n",
    "    plt.axis('off')\n",
    "plt.show()"
   ]
  },
  {
   "cell_type": "markdown",
   "id": "309f4fc8",
   "metadata": {
    "papermill": {
     "duration": 0.009777,
     "end_time": "2024-10-28T15:54:58.997711",
     "exception": false,
     "start_time": "2024-10-28T15:54:58.987934",
     "status": "completed"
    },
    "tags": []
   },
   "source": [
    "## Data Preprocessing"
   ]
  },
  {
   "cell_type": "code",
   "execution_count": 3,
   "id": "eafb43f1",
   "metadata": {
    "execution": {
     "iopub.execute_input": "2024-10-28T15:54:59.021504Z",
     "iopub.status.busy": "2024-10-28T15:54:59.019896Z",
     "iopub.status.idle": "2024-10-28T15:54:59.260690Z",
     "shell.execute_reply": "2024-10-28T15:54:59.259585Z"
    },
    "papermill": {
     "duration": 0.255517,
     "end_time": "2024-10-28T15:54:59.263270",
     "exception": false,
     "start_time": "2024-10-28T15:54:59.007753",
     "status": "completed"
    },
    "tags": []
   },
   "outputs": [],
   "source": [
    "# Normalize pixel values (0-255) to (0-1) for faster and more efficient training\n",
    "x_train, x_test = x_train / 255.0, x_test / 255.0\n",
    "\n",
    "# One-hot encode labels for multi-class classification\n",
    "y_train = tf.keras.utils.to_categorical(y_train, 10)\n",
    "y_test = tf.keras.utils.to_categorical(y_test, 10)"
   ]
  },
  {
   "cell_type": "markdown",
   "id": "12d26980",
   "metadata": {
    "papermill": {
     "duration": 0.009019,
     "end_time": "2024-10-28T15:54:59.279098",
     "exception": false,
     "start_time": "2024-10-28T15:54:59.270079",
     "status": "completed"
    },
    "tags": []
   },
   "source": [
    "## Building the Neural Network Model"
   ]
  },
  {
   "cell_type": "code",
   "execution_count": 4,
   "id": "f6dc4a3c",
   "metadata": {
    "execution": {
     "iopub.execute_input": "2024-10-28T15:54:59.301011Z",
     "iopub.status.busy": "2024-10-28T15:54:59.300452Z",
     "iopub.status.idle": "2024-10-28T15:54:59.417397Z",
     "shell.execute_reply": "2024-10-28T15:54:59.416379Z"
    },
    "papermill": {
     "duration": 0.129131,
     "end_time": "2024-10-28T15:54:59.419432",
     "exception": false,
     "start_time": "2024-10-28T15:54:59.290301",
     "status": "completed"
    },
    "tags": []
   },
   "outputs": [
    {
     "name": "stderr",
     "output_type": "stream",
     "text": [
      "/opt/conda/lib/python3.10/site-packages/keras/src/layers/reshaping/flatten.py:37: UserWarning: Do not pass an `input_shape`/`input_dim` argument to a layer. When using Sequential models, prefer using an `Input(shape)` object as the first layer in the model instead.\n",
      "  super().__init__(**kwargs)\n"
     ]
    },
    {
     "data": {
      "text/html": [
       "<pre style=\"white-space:pre;overflow-x:auto;line-height:normal;font-family:Menlo,'DejaVu Sans Mono',consolas,'Courier New',monospace\"><span style=\"font-weight: bold\">Model: \"sequential\"</span>\n",
       "</pre>\n"
      ],
      "text/plain": [
       "\u001b[1mModel: \"sequential\"\u001b[0m\n"
      ]
     },
     "metadata": {},
     "output_type": "display_data"
    },
    {
     "data": {
      "text/html": [
       "<pre style=\"white-space:pre;overflow-x:auto;line-height:normal;font-family:Menlo,'DejaVu Sans Mono',consolas,'Courier New',monospace\">┏━━━━━━━━━━━━━━━━━━━━━━━━━━━━━━━━━┳━━━━━━━━━━━━━━━━━━━━━━━━┳━━━━━━━━━━━━━━━┓\n",
       "┃<span style=\"font-weight: bold\"> Layer (type)                    </span>┃<span style=\"font-weight: bold\"> Output Shape           </span>┃<span style=\"font-weight: bold\">       Param # </span>┃\n",
       "┡━━━━━━━━━━━━━━━━━━━━━━━━━━━━━━━━━╇━━━━━━━━━━━━━━━━━━━━━━━━╇━━━━━━━━━━━━━━━┩\n",
       "│ flatten (<span style=\"color: #0087ff; text-decoration-color: #0087ff\">Flatten</span>)               │ (<span style=\"color: #00d7ff; text-decoration-color: #00d7ff\">None</span>, <span style=\"color: #00af00; text-decoration-color: #00af00\">784</span>)            │             <span style=\"color: #00af00; text-decoration-color: #00af00\">0</span> │\n",
       "├─────────────────────────────────┼────────────────────────┼───────────────┤\n",
       "│ dense (<span style=\"color: #0087ff; text-decoration-color: #0087ff\">Dense</span>)                   │ (<span style=\"color: #00d7ff; text-decoration-color: #00d7ff\">None</span>, <span style=\"color: #00af00; text-decoration-color: #00af00\">128</span>)            │       <span style=\"color: #00af00; text-decoration-color: #00af00\">100,480</span> │\n",
       "├─────────────────────────────────┼────────────────────────┼───────────────┤\n",
       "│ dense_1 (<span style=\"color: #0087ff; text-decoration-color: #0087ff\">Dense</span>)                 │ (<span style=\"color: #00d7ff; text-decoration-color: #00d7ff\">None</span>, <span style=\"color: #00af00; text-decoration-color: #00af00\">64</span>)             │         <span style=\"color: #00af00; text-decoration-color: #00af00\">8,256</span> │\n",
       "├─────────────────────────────────┼────────────────────────┼───────────────┤\n",
       "│ dense_2 (<span style=\"color: #0087ff; text-decoration-color: #0087ff\">Dense</span>)                 │ (<span style=\"color: #00d7ff; text-decoration-color: #00d7ff\">None</span>, <span style=\"color: #00af00; text-decoration-color: #00af00\">10</span>)             │           <span style=\"color: #00af00; text-decoration-color: #00af00\">650</span> │\n",
       "└─────────────────────────────────┴────────────────────────┴───────────────┘\n",
       "</pre>\n"
      ],
      "text/plain": [
       "┏━━━━━━━━━━━━━━━━━━━━━━━━━━━━━━━━━┳━━━━━━━━━━━━━━━━━━━━━━━━┳━━━━━━━━━━━━━━━┓\n",
       "┃\u001b[1m \u001b[0m\u001b[1mLayer (type)                   \u001b[0m\u001b[1m \u001b[0m┃\u001b[1m \u001b[0m\u001b[1mOutput Shape          \u001b[0m\u001b[1m \u001b[0m┃\u001b[1m \u001b[0m\u001b[1m      Param #\u001b[0m\u001b[1m \u001b[0m┃\n",
       "┡━━━━━━━━━━━━━━━━━━━━━━━━━━━━━━━━━╇━━━━━━━━━━━━━━━━━━━━━━━━╇━━━━━━━━━━━━━━━┩\n",
       "│ flatten (\u001b[38;5;33mFlatten\u001b[0m)               │ (\u001b[38;5;45mNone\u001b[0m, \u001b[38;5;34m784\u001b[0m)            │             \u001b[38;5;34m0\u001b[0m │\n",
       "├─────────────────────────────────┼────────────────────────┼───────────────┤\n",
       "│ dense (\u001b[38;5;33mDense\u001b[0m)                   │ (\u001b[38;5;45mNone\u001b[0m, \u001b[38;5;34m128\u001b[0m)            │       \u001b[38;5;34m100,480\u001b[0m │\n",
       "├─────────────────────────────────┼────────────────────────┼───────────────┤\n",
       "│ dense_1 (\u001b[38;5;33mDense\u001b[0m)                 │ (\u001b[38;5;45mNone\u001b[0m, \u001b[38;5;34m64\u001b[0m)             │         \u001b[38;5;34m8,256\u001b[0m │\n",
       "├─────────────────────────────────┼────────────────────────┼───────────────┤\n",
       "│ dense_2 (\u001b[38;5;33mDense\u001b[0m)                 │ (\u001b[38;5;45mNone\u001b[0m, \u001b[38;5;34m10\u001b[0m)             │           \u001b[38;5;34m650\u001b[0m │\n",
       "└─────────────────────────────────┴────────────────────────┴───────────────┘\n"
      ]
     },
     "metadata": {},
     "output_type": "display_data"
    },
    {
     "data": {
      "text/html": [
       "<pre style=\"white-space:pre;overflow-x:auto;line-height:normal;font-family:Menlo,'DejaVu Sans Mono',consolas,'Courier New',monospace\"><span style=\"font-weight: bold\"> Total params: </span><span style=\"color: #00af00; text-decoration-color: #00af00\">109,386</span> (427.29 KB)\n",
       "</pre>\n"
      ],
      "text/plain": [
       "\u001b[1m Total params: \u001b[0m\u001b[38;5;34m109,386\u001b[0m (427.29 KB)\n"
      ]
     },
     "metadata": {},
     "output_type": "display_data"
    },
    {
     "data": {
      "text/html": [
       "<pre style=\"white-space:pre;overflow-x:auto;line-height:normal;font-family:Menlo,'DejaVu Sans Mono',consolas,'Courier New',monospace\"><span style=\"font-weight: bold\"> Trainable params: </span><span style=\"color: #00af00; text-decoration-color: #00af00\">109,386</span> (427.29 KB)\n",
       "</pre>\n"
      ],
      "text/plain": [
       "\u001b[1m Trainable params: \u001b[0m\u001b[38;5;34m109,386\u001b[0m (427.29 KB)\n"
      ]
     },
     "metadata": {},
     "output_type": "display_data"
    },
    {
     "data": {
      "text/html": [
       "<pre style=\"white-space:pre;overflow-x:auto;line-height:normal;font-family:Menlo,'DejaVu Sans Mono',consolas,'Courier New',monospace\"><span style=\"font-weight: bold\"> Non-trainable params: </span><span style=\"color: #00af00; text-decoration-color: #00af00\">0</span> (0.00 B)\n",
       "</pre>\n"
      ],
      "text/plain": [
       "\u001b[1m Non-trainable params: \u001b[0m\u001b[38;5;34m0\u001b[0m (0.00 B)\n"
      ]
     },
     "metadata": {},
     "output_type": "display_data"
    }
   ],
   "source": [
    "# Define a Sequential model with Dense layers\n",
    "model = models.Sequential([\n",
    "    layers.Flatten(input_shape=(28, 28)),          # Flatten 28x28 images into 784-length vectors\n",
    "    layers.Dense(128, activation='relu'),          # Hidden layer with ReLU activation\n",
    "    layers.Dense(64, activation='relu'),           # Another hidden layer\n",
    "    layers.Dense(10, activation='softmax')         # Output layer with 10 units for classification\n",
    "])\n",
    "\n",
    "# Display model summary\n",
    "model.summary()"
   ]
  },
  {
   "cell_type": "markdown",
   "id": "9b31648a",
   "metadata": {
    "papermill": {
     "duration": 0.006584,
     "end_time": "2024-10-28T15:54:59.432877",
     "exception": false,
     "start_time": "2024-10-28T15:54:59.426293",
     "status": "completed"
    },
    "tags": []
   },
   "source": [
    "## Compiling the Model"
   ]
  },
  {
   "cell_type": "code",
   "execution_count": 5,
   "id": "d6117209",
   "metadata": {
    "execution": {
     "iopub.execute_input": "2024-10-28T15:54:59.449106Z",
     "iopub.status.busy": "2024-10-28T15:54:59.448708Z",
     "iopub.status.idle": "2024-10-28T15:54:59.464139Z",
     "shell.execute_reply": "2024-10-28T15:54:59.463075Z"
    },
    "papermill": {
     "duration": 0.026002,
     "end_time": "2024-10-28T15:54:59.466619",
     "exception": false,
     "start_time": "2024-10-28T15:54:59.440617",
     "status": "completed"
    },
    "tags": []
   },
   "outputs": [],
   "source": [
    "# Compile the model with an optimizer, loss function, and evaluation metric\n",
    "model.compile(optimizer='adam',                     # Adam optimizer for adaptive learning rate\n",
    "              loss='categorical_crossentropy',      # Cross-entropy for multi-class classification\n",
    "              metrics=['accuracy'])                 # Track accuracy during training"
   ]
  },
  {
   "cell_type": "markdown",
   "id": "b5b6802c",
   "metadata": {
    "papermill": {
     "duration": 0.006596,
     "end_time": "2024-10-28T15:54:59.480300",
     "exception": false,
     "start_time": "2024-10-28T15:54:59.473704",
     "status": "completed"
    },
    "tags": []
   },
   "source": [
    "## Training the Model"
   ]
  },
  {
   "cell_type": "code",
   "execution_count": 6,
   "id": "ebb9a036",
   "metadata": {
    "execution": {
     "iopub.execute_input": "2024-10-28T15:54:59.496090Z",
     "iopub.status.busy": "2024-10-28T15:54:59.495132Z",
     "iopub.status.idle": "2024-10-28T15:55:42.853876Z",
     "shell.execute_reply": "2024-10-28T15:55:42.852842Z"
    },
    "papermill": {
     "duration": 43.369283,
     "end_time": "2024-10-28T15:55:42.856382",
     "exception": false,
     "start_time": "2024-10-28T15:54:59.487099",
     "status": "completed"
    },
    "tags": []
   },
   "outputs": [
    {
     "name": "stdout",
     "output_type": "stream",
     "text": [
      "Epoch 1/10\n",
      "\u001b[1m1500/1500\u001b[0m \u001b[32m━━━━━━━━━━━━━━━━━━━━\u001b[0m\u001b[37m\u001b[0m \u001b[1m6s\u001b[0m 3ms/step - accuracy: 0.8692 - loss: 0.4505 - val_accuracy: 0.9582 - val_loss: 0.1431\n",
      "Epoch 2/10\n",
      "\u001b[1m1500/1500\u001b[0m \u001b[32m━━━━━━━━━━━━━━━━━━━━\u001b[0m\u001b[37m\u001b[0m \u001b[1m4s\u001b[0m 3ms/step - accuracy: 0.9651 - loss: 0.1162 - val_accuracy: 0.9649 - val_loss: 0.1128\n",
      "Epoch 3/10\n",
      "\u001b[1m1500/1500\u001b[0m \u001b[32m━━━━━━━━━━━━━━━━━━━━\u001b[0m\u001b[37m\u001b[0m \u001b[1m4s\u001b[0m 3ms/step - accuracy: 0.9773 - loss: 0.0744 - val_accuracy: 0.9670 - val_loss: 0.1077\n",
      "Epoch 4/10\n",
      "\u001b[1m1500/1500\u001b[0m \u001b[32m━━━━━━━━━━━━━━━━━━━━\u001b[0m\u001b[37m\u001b[0m \u001b[1m4s\u001b[0m 3ms/step - accuracy: 0.9828 - loss: 0.0550 - val_accuracy: 0.9692 - val_loss: 0.1039\n",
      "Epoch 5/10\n",
      "\u001b[1m1500/1500\u001b[0m \u001b[32m━━━━━━━━━━━━━━━━━━━━\u001b[0m\u001b[37m\u001b[0m \u001b[1m4s\u001b[0m 3ms/step - accuracy: 0.9874 - loss: 0.0398 - val_accuracy: 0.9668 - val_loss: 0.1177\n",
      "Epoch 6/10\n",
      "\u001b[1m1500/1500\u001b[0m \u001b[32m━━━━━━━━━━━━━━━━━━━━\u001b[0m\u001b[37m\u001b[0m \u001b[1m4s\u001b[0m 3ms/step - accuracy: 0.9905 - loss: 0.0310 - val_accuracy: 0.9730 - val_loss: 0.0995\n",
      "Epoch 7/10\n",
      "\u001b[1m1500/1500\u001b[0m \u001b[32m━━━━━━━━━━━━━━━━━━━━\u001b[0m\u001b[37m\u001b[0m \u001b[1m4s\u001b[0m 3ms/step - accuracy: 0.9903 - loss: 0.0299 - val_accuracy: 0.9718 - val_loss: 0.1088\n",
      "Epoch 8/10\n",
      "\u001b[1m1500/1500\u001b[0m \u001b[32m━━━━━━━━━━━━━━━━━━━━\u001b[0m\u001b[37m\u001b[0m \u001b[1m4s\u001b[0m 3ms/step - accuracy: 0.9925 - loss: 0.0230 - val_accuracy: 0.9717 - val_loss: 0.1150\n",
      "Epoch 9/10\n",
      "\u001b[1m1500/1500\u001b[0m \u001b[32m━━━━━━━━━━━━━━━━━━━━\u001b[0m\u001b[37m\u001b[0m \u001b[1m4s\u001b[0m 3ms/step - accuracy: 0.9942 - loss: 0.0186 - val_accuracy: 0.9749 - val_loss: 0.1036\n",
      "Epoch 10/10\n",
      "\u001b[1m1500/1500\u001b[0m \u001b[32m━━━━━━━━━━━━━━━━━━━━\u001b[0m\u001b[37m\u001b[0m \u001b[1m4s\u001b[0m 3ms/step - accuracy: 0.9937 - loss: 0.0181 - val_accuracy: 0.9747 - val_loss: 0.1157\n"
     ]
    }
   ],
   "source": [
    "# Train the model and store training history for visualization\n",
    "history = model.fit(x_train, y_train, epochs=10, \n",
    "                    validation_split=0.2,           # Use 20% of the training data for validation\n",
    "                    batch_size=32)                  # Process data in batches of 32"
   ]
  },
  {
   "cell_type": "markdown",
   "id": "e61cade1",
   "metadata": {
    "papermill": {
     "duration": 0.053352,
     "end_time": "2024-10-28T15:55:42.963821",
     "exception": false,
     "start_time": "2024-10-28T15:55:42.910469",
     "status": "completed"
    },
    "tags": []
   },
   "source": [
    "## Evaluating the Model"
   ]
  },
  {
   "cell_type": "code",
   "execution_count": 7,
   "id": "85d93905",
   "metadata": {
    "execution": {
     "iopub.execute_input": "2024-10-28T15:55:43.075025Z",
     "iopub.status.busy": "2024-10-28T15:55:43.074251Z",
     "iopub.status.idle": "2024-10-28T15:55:43.724168Z",
     "shell.execute_reply": "2024-10-28T15:55:43.722597Z"
    },
    "papermill": {
     "duration": 0.70921,
     "end_time": "2024-10-28T15:55:43.727205",
     "exception": false,
     "start_time": "2024-10-28T15:55:43.017995",
     "status": "completed"
    },
    "tags": []
   },
   "outputs": [
    {
     "name": "stdout",
     "output_type": "stream",
     "text": [
      "Test Accuracy: 0.9767\n",
      "Test Loss: 0.1023\n"
     ]
    }
   ],
   "source": [
    "# Evaluate on the test dataset\n",
    "test_loss, test_accuracy = model.evaluate(x_test, y_test, verbose=0)\n",
    "print(f'Test Accuracy: {test_accuracy:.4f}')\n",
    "print(f'Test Loss: {test_loss:.4f}')"
   ]
  },
  {
   "cell_type": "markdown",
   "id": "547d3d88",
   "metadata": {
    "papermill": {
     "duration": 0.054065,
     "end_time": "2024-10-28T15:55:43.835338",
     "exception": false,
     "start_time": "2024-10-28T15:55:43.781273",
     "status": "completed"
    },
    "tags": []
   },
   "source": [
    "## Visualizing Results"
   ]
  },
  {
   "cell_type": "code",
   "execution_count": 8,
   "id": "041018ac",
   "metadata": {
    "execution": {
     "iopub.execute_input": "2024-10-28T15:55:43.947143Z",
     "iopub.status.busy": "2024-10-28T15:55:43.946702Z",
     "iopub.status.idle": "2024-10-28T15:55:44.442996Z",
     "shell.execute_reply": "2024-10-28T15:55:44.441815Z"
    },
    "papermill": {
     "duration": 0.555076,
     "end_time": "2024-10-28T15:55:44.445341",
     "exception": false,
     "start_time": "2024-10-28T15:55:43.890265",
     "status": "completed"
    },
    "tags": []
   },
   "outputs": [
    {
     "data": {
      "image/png": "[encoded data removed]",
      "text/plain": [
       "<Figure size 1200x400 with 2 Axes>"
      ]
     },
     "metadata": {},
     "output_type": "display_data"
    }
   ],
   "source": [
    "# Plotting training and validation accuracy over epochs\n",
    "plt.figure(figsize=(12, 4))\n",
    "\n",
    "# Accuracy Plot\n",
    "plt.subplot(1, 2, 1)\n",
    "plt.plot(history.history['accuracy'], label='Training Accuracy')\n",
    "plt.plot(history.history['val_accuracy'], label='Validation Accuracy')\n",
    "plt.xlabel('Epoch')\n",
    "plt.ylabel('Accuracy')\n",
    "plt.legend()\n",
    "plt.title('Training and Validation Accuracy')\n",
    "\n",
    "# Loss Plot\n",
    "plt.subplot(1, 2, 2)\n",
    "plt.plot(history.history['loss'], label='Training Loss')\n",
    "plt.plot(history.history['val_loss'], label='Validation Loss')\n",
    "plt.xlabel('Epoch')\n",
    "plt.ylabel('Loss')\n",
    "plt.legend()\n",
    "plt.title('Training and Validation Loss')\n",
    "\n",
    "plt.show()"
   ]
  },
  {
   "cell_type": "markdown",
   "id": "f5c180e7",
   "metadata": {
    "papermill": {
     "duration": 0.055332,
     "end_time": "2024-10-28T15:55:44.555753",
     "exception": false,
     "start_time": "2024-10-28T15:55:44.500421",
     "status": "completed"
    },
    "tags": []
   },
   "source": [
    "## Predicting and Visualizing Sample Predictions"
   ]
  },
  {
   "cell_type": "code",
   "execution_count": 9,
   "id": "b17bc4ea",
   "metadata": {
    "execution": {
     "iopub.execute_input": "2024-10-28T15:55:44.668813Z",
     "iopub.status.busy": "2024-10-28T15:55:44.668331Z",
     "iopub.status.idle": "2024-10-28T15:55:46.415569Z",
     "shell.execute_reply": "2024-10-28T15:55:46.414287Z"
    },
    "papermill": {
     "duration": 1.806986,
     "end_time": "2024-10-28T15:55:46.418031",
     "exception": false,
     "start_time": "2024-10-28T15:55:44.611045",
     "status": "completed"
    },
    "tags": []
   },
   "outputs": [
    {
     "name": "stdout",
     "output_type": "stream",
     "text": [
      "\u001b[1m313/313\u001b[0m \u001b[32m━━━━━━━━━━━━━━━━━━━━\u001b[0m\u001b[37m\u001b[0m \u001b[1m1s\u001b[0m 2ms/step\n"
     ]
    },
    {
     "data": {
      "image/png": "[encoded data removed]",
      "text/plain": [
       "<Figure size 1000x1000 with 9 Axes>"
      ]
     },
     "metadata": {},
     "output_type": "display_data"
    }
   ],
   "source": [
    "# Make predictions\n",
    "predictions = model.predict(x_test)\n",
    "predicted_labels = np.argmax(predictions, axis=1)\n",
    "true_labels = np.argmax(y_test, axis=1)\n",
    "\n",
    "# Visualize a few predictions along with true labels\n",
    "plt.figure(figsize=(10, 10))\n",
    "for i in range(9):\n",
    "    plt.subplot(3, 3, i + 1)\n",
    "    plt.imshow(x_test[i], cmap='gray')\n",
    "    plt.title(f'True: {true_labels[i]}, Pred: {predicted_labels[i]}')\n",
    "    plt.axis('off')\n",
    "plt.show()"
   ]
  },
  {
   "cell_type": "markdown",
   "id": "fe2c9125",
   "metadata": {
    "papermill": {
     "duration": 0.056212,
     "end_time": "2024-10-28T15:55:46.533088",
     "exception": false,
     "start_time": "2024-10-28T15:55:46.476876",
     "status": "completed"
    },
    "tags": []
   },
   "source": [
    "## What's next?\n",
    "\n",
    "Try experimenting with parameters, improve model accuracy, increase the number of epochs, apply early stopping\n",
    "\n",
    "**Happy training! 🎉**"
   ]
  }
 ],
 "metadata": {
  "kaggle": {
   "accelerator": "none",
   "dataSources": [],
   "dockerImageVersionId": 30786,
   "isGpuEnabled": false,
   "isInternetEnabled": true,
   "language": "python",
   "sourceType": "notebook"
  },
  "kernelspec": {
   "display_name": "Python 3",
   "language": "python",
   "name": "python3"
  },
  "language_info": {
   "codemirror_mode": {
    "name": "ipython",
    "version": 3
   },
   "file_extension": ".py",
   "mimetype": "text/x-python",
   "name": "python",
   "nbconvert_exporter": "python",
   "pygments_lexer": "ipython3",
   "version": "3.10.14"
  },
  "papermill": {
   "default_parameters": {},
   "duration": 68.486529,
   "end_time": "2024-10-28T15:55:48.117827",
   "environment_variables": {},
   "exception": null,
   "input_path": "__notebook__.ipynb",
   "output_path": "__notebook__.ipynb",
   "parameters": {},
   "start_time": "2024-10-28T15:54:39.631298",
   "version": "2.6.0"
  }
 },
 "nbformat": 4,
 "nbformat_minor": 5
}
